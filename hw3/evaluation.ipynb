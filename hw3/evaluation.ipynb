{
 "cells": [
  {
   "cell_type": "code",
   "execution_count": 2,
   "id": "80f58883-2657-4541-87a6-8121f52a4bf0",
   "metadata": {},
   "outputs": [],
   "source": [
    "import tensorflow as tf \n",
    "\n",
    "import tensorflow_datasets as tfds \n",
    "DATA_DIR = \"./tensorflow-datasets\"\n"
   ]
  },
  {
   "cell_type": "code",
   "execution_count": 3,
   "id": "72ae6a4c-c9c9-4f12-afd7-ae44d1162c0f",
   "metadata": {},
   "outputs": [],
   "source": [
    "%load_ext autoreload\n",
    "%autoreload 2"
   ]
  },
  {
   "cell_type": "code",
   "execution_count": 46,
   "id": "7fa4efaf-b8b1-49e5-9538-7a5ba8f4f79c",
   "metadata": {},
   "outputs": [
    {
     "name": "stdout",
     "output_type": "stream",
     "text": [
      "None\n"
     ]
    },
    {
     "name": "stderr",
     "output_type": "stream",
     "text": [
      "2024-11-10 20:12:24.307069: W tensorflow/core/util/tensor_slice_reader.cc:95] Could not open results_lstm_/32_0.001_True/best_model.hd5: Failed precondition: results_lstm_/32_0.001_True/best_model.hd5; Is a directory: perhaps your file is in a different file format and you need to use a different restore operator?\n"
     ]
    },
    {
     "name": "stdout",
     "output_type": "stream",
     "text": [
      "Best model\n",
      "   Unnamed: 0  batch_size  learning_rate  regularizer  accuracy  \\\n",
      "2           2          32          0.001         True    0.8889   \n",
      "\n",
      "                                                logs  \\\n",
      "2  {'loss': [1.1264721155166626, 0.57569921016693...   \n",
      "\n",
      "                                        model  \n",
      "2  results_lstm_/32_0.001_True/best_model.hd5  \n",
      "Test accuracy 0.87552\n"
     ]
    }
   ],
   "source": [
    "import model\n",
    "import util\n",
    "import pandas as pd \n",
    "from pathlib import Path\n",
    "\n",
    "\n",
    "vocab_ds = util.get_for_vocab_ds()\n",
    "\n",
    "results_l = pd.read_csv(\"results_lstm_/exp_results.csv\")\n",
    "results_g = pd.read_csv(\"results_gru_/exp_results.csv\")\n",
    "vectorizer = util.get_text_vectorizer(vocab_ds, vocab_size=30000, sequence_length=1200)\n",
    "\n",
    "combined = pd.concat([results_l,results_g], ignore_index=True, sort=False)\n",
    "with_regularizer = combined[combined['regularizer']==True]\n",
    "best= with_regularizer[with_regularizer['accuracy']==with_regularizer['accuracy'].max()]\n",
    "best_config = best['model'].iloc[0]\n",
    "if \"gru\" in best_config:\n",
    "    best_model = model.get_bidirectional_gru_attention(vectorizer)\n",
    "else:\n",
    "    best_model = model.get_bidirectional_lstm_attention(vectorizer)\n",
    "best_model.load_weights(best_config)\n",
    "test_ds= util.get_test_ds()\n",
    "accuracy = util.evaluate_model(best_model, test_ds,Path(\"./\"))\n",
    "print(\"Best model\")\n",
    "print(best)\n",
    "print(\"Test accuracy\", accuracy)\n"
   ]
  },
  {
   "cell_type": "code",
   "execution_count": null,
   "id": "52a4867d-ee2f-4f5d-b771-e09461b9e903",
   "metadata": {},
   "outputs": [],
   "source": []
  },
  {
   "cell_type": "code",
   "execution_count": null,
   "id": "9d2bef91-6a9b-44c5-9574-c0a910da90e9",
   "metadata": {},
   "outputs": [],
   "source": []
  },
  {
   "cell_type": "code",
   "execution_count": null,
   "id": "d39a7cf5-182e-46ab-a7f2-492671e502c1",
   "metadata": {},
   "outputs": [],
   "source": []
  },
  {
   "cell_type": "code",
   "execution_count": null,
   "id": "b2a4a394-653e-490c-8f54-a156755ad831",
   "metadata": {},
   "outputs": [],
   "source": []
  },
  {
   "cell_type": "code",
   "execution_count": null,
   "id": "49c94121-188a-4d1f-b3ed-bc094aeb5b11",
   "metadata": {},
   "outputs": [],
   "source": []
  }
 ],
 "metadata": {
  "kernelspec": {
   "display_name": "Python CSCE479 (tensorflow-env)",
   "language": "python",
   "name": "tensorflow-env"
  },
  "language_info": {
   "codemirror_mode": {
    "name": "ipython",
    "version": 3
   },
   "file_extension": ".py",
   "mimetype": "text/x-python",
   "name": "python",
   "nbconvert_exporter": "python",
   "pygments_lexer": "ipython3",
   "version": "3.9.7"
  }
 },
 "nbformat": 4,
 "nbformat_minor": 5
}
