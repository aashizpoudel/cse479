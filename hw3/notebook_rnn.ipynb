{
 "cells": [
  {
   "cell_type": "code",
   "execution_count": 1,
   "id": "e6defa85-27c4-4b04-887c-42446c3146ba",
   "metadata": {},
   "outputs": [],
   "source": [
    "import tensorflow as tf \n",
    "\n",
    "import tensorflow_datasets as tfds \n",
    "DATA_DIR = \"./tensorflow-datasets\"\n"
   ]
  },
  {
   "cell_type": "code",
   "execution_count": 2,
   "id": "14ae7732-c72c-4328-a5da-1219437a6ed0",
   "metadata": {},
   "outputs": [
    {
     "name": "stderr",
     "output_type": "stream",
     "text": [
      "2024-11-10 08:21:59.347840: I tensorflow/core/platform/cpu_feature_guard.cc:142] This TensorFlow binary is optimized with oneAPI Deep Neural Network Library (oneDNN) to use the following CPU instructions in performance-critical operations:  SSE4.1 SSE4.2 AVX AVX2 AVX512F FMA\n",
      "To enable them in other operations, rebuild TensorFlow with the appropriate compiler flags.\n",
      "2024-11-10 08:22:02.141529: I tensorflow/core/common_runtime/gpu/gpu_device.cc:1510] Created device /job:localhost/replica:0/task:0/device:GPU:0 with 30972 MB memory:  -> device: 0, name: Tesla V100-PCIE-32GB, pci bus id: 0000:d8:00.0, compute capability: 7.0\n"
     ]
    }
   ],
   "source": [
    "for_vocabulary = tfds.load(\"imdb_reviews\", split=\"train\", with_info=False, as_supervised=True, data_dir=DATA_DIR)\n",
    "train_ds,val_ds = tfds.load('imdb_reviews', split=[\"train[:70%]\",\"train[70%:]\"], with_info=False,\n",
    "                          as_supervised=True,data_dir=DATA_DIR)\n",
    "\n",
    "# train_dataset, test_dataset = dataset['train'], dataset['test']\n",
    "\n",
    "# train_dataset.element_spec"
   ]
  },
  {
   "cell_type": "code",
   "execution_count": 3,
   "id": "ed801193-c0f4-4fb4-8a94-f32c5c870873",
   "metadata": {},
   "outputs": [
    {
     "data": {
      "text/plain": [
       "(17500, 7500, 25000)"
      ]
     },
     "execution_count": 3,
     "metadata": {},
     "output_type": "execute_result"
    }
   ],
   "source": [
    "len(train_ds), len(val_ds), len(for_vocabulary)"
   ]
  },
  {
   "cell_type": "code",
   "execution_count": 4,
   "id": "d8931eba-c988-4764-81ac-e33195481a49",
   "metadata": {},
   "outputs": [],
   "source": [
    "# BATCH_SIZE=64\n",
    "# BUFFER_SIZE=10000\n",
    "# train_batched = train_ds.shuffle(BUFFER_SIZE).batch(BATCH_SIZE).prefetch(tf.data.AUTOTUNE)\n",
    "# val_batched = val_ds.batch(BATCH_SIZE).prefetch(tf.data.AUTOTUNE)"
   ]
  },
  {
   "cell_type": "code",
   "execution_count": null,
   "id": "63d79f61-4438-4484-b372-733e2804ecd6",
   "metadata": {},
   "outputs": [],
   "source": []
  },
  {
   "cell_type": "code",
   "execution_count": 5,
   "id": "244a7936-2cbb-4a2a-8008-d007a4e92347",
   "metadata": {},
   "outputs": [
    {
     "name": "stderr",
     "output_type": "stream",
     "text": [
      "2024-11-10 08:22:02.615277: I tensorflow/compiler/mlir/mlir_graph_optimization_pass.cc:185] None of the MLIR Optimization Passes are enabled (registered 2)\n"
     ]
    },
    {
     "name": "stdout",
     "output_type": "stream",
     "text": [
      "b\"This was an absolutely terrible movie. Don't be lured in by Christopher Walken or Michael Ironside. Both are great actors, but this must simply be their worst role in history. Even their great acting could not redeem this movie's ridiculous storyline. This movie is an early nineties US propaganda piece. The most pathetic scenes were those when the Columbian rebels were making their cases for revolutions. Maria Conchita Alonso appeared phony, and her pseudo-love affair with Walken was nothing but a pathetic emotional plug in a movie that was devoid of any real meaning. I am disappointed that there are movies like this, ruining actor's like Christopher Walken's good name. I could barely sit through it.\"\n"
     ]
    },
    {
     "name": "stderr",
     "output_type": "stream",
     "text": [
      "2024-11-10 08:22:02.831114: W tensorflow/core/kernels/data/cache_dataset_ops.cc:768] The calling iterator did not fully read the dataset being cached. In order to avoid unexpected truncation of the dataset, the partially cached contents of the dataset  will be discarded. This can happen if you have an input pipeline similar to `dataset.cache().take(k).repeat()`. You should use `dataset.take(k).cache().repeat()` instead.\n"
     ]
    }
   ],
   "source": [
    "for example, label in train_ds.take(1):\n",
    "    print(example.numpy())"
   ]
  },
  {
   "cell_type": "code",
   "execution_count": 6,
   "id": "076981b4-01c9-4658-b59b-da1bd92008e6",
   "metadata": {},
   "outputs": [],
   "source": [
    "# length = for_vocabulary.map(lambda text,label: len(tf.strings.split(text,\" \")))"
   ]
  },
  {
   "cell_type": "code",
   "execution_count": 7,
   "id": "b332dea4-6592-4cf4-9e83-33a185c759c3",
   "metadata": {},
   "outputs": [],
   "source": [
    "import re\n",
    "import string\n",
    "import numpy as np\n",
    "def custom_standardization(input_data):\n",
    "    lowercase = tf.strings.lower(input_data)\n",
    "    stripped_html = tf.strings.regex_replace(lowercase, '<br />', ' ')\n",
    "    return tf.strings.regex_replace(stripped_html,\n",
    "                                  '[%s]' % re.escape(string.punctuation),\n",
    "                                  '')\n",
    "\n",
    "def get_text_vectorizer(dataset, vocab_size=1000, sequence_length=500):\n",
    "    vectorizer = tf.keras.layers.TextVectorization(standardize=custom_standardization, max_tokens=vocab_size,output_mode='int',output_sequence_length=sequence_length)\n",
    "    vectorizer.adapt(dataset.map(lambda text,label: text))\n",
    "    return vectorizer \n",
    "\n",
    "def train_model(model, train_ds, val_ds, loss_fn, batch_size=64, optimizer=tf.keras.optimizers.Adam(), callbacks=None, epochs=50):\n",
    "    train_batched = train_ds.shuffle(1000).batch(batch_size)\n",
    "    val_batched = val_ds.shuffle(1000).batch(batch_size)\n",
    "    model.compile(loss=loss_fn, optimizer=optimizer,\n",
    "              metrics=[tf.metrics.BinaryAccuracy(threshold=0.5)])\n",
    "    history = model.fit(train_batched, epochs=epochs, validation_data=val_batched,callbacks=callbacks)\n",
    "    return history\n",
    "\n",
    "from sklearn.metrics import accuracy_score, ConfusionMatrixDisplay\n",
    "import matplotlib.pyplot as plt \n",
    "def evaluate_model(model, val_ds, result_path=None):\n",
    "    val_batched = val_ds.batch(64)\n",
    "    predictions = (tf.nn.sigmoid(model.predict(val_batched)) > 0.5).numpy()\n",
    "    truth = np.concatenate([label.numpy() for _,label in val_batched],axis=0)\n",
    "    accuracy = accuracy_score(truth, predictions)\n",
    "    ConfusionMatrixDisplay.from_predictions(y_pred=predictions, y_true=truth,normalize=\"true\")\n",
    "    if result_path:\n",
    "        plt.savefig(result_path.joinpath('confusion_matrix.jpg'))\n",
    "        plt.close()\n",
    "    else:\n",
    "        plt.show()\n",
    "    return accuracy \n",
    "    \n",
    "def plot_training_graphs(history, result_path=None):\n",
    "    plt.plot(history.history['loss'],label=\"training\")\n",
    "    plt.plot(history.history['val_loss'],label=\"validation\")\n",
    "    plt.xlabel(\"epochs\")\n",
    "    if result_path:\n",
    "        plt.savefig(result_path.joinpath('training_history.jpg'))\n",
    "        plt.close()\n",
    "    else:\n",
    "        plt.show()\n",
    "    "
   ]
  },
  {
   "cell_type": "code",
   "execution_count": 8,
   "id": "778db6c0-5c41-4ece-9973-0246de0c2d8c",
   "metadata": {},
   "outputs": [],
   "source": [
    "# Add attention layer to the deep learning network\n",
    "import keras.backend as K\n",
    "class Attention(tf.keras.layers.Layer):\n",
    "    def __init__(self,**kwargs):\n",
    "        super(Attention,self).__init__(**kwargs)\n",
    " \n",
    "    def build(self,input_shape):\n",
    "        self.W=self.add_weight(name='attention_weight', shape=(input_shape[-1],1), \n",
    "                               initializer='random_normal', trainable=True)\n",
    "        self.b=self.add_weight(name='attention_bias', shape=(input_shape[1],1), \n",
    "                               initializer='zeros', trainable=True)        \n",
    "        super(Attention, self).build(input_shape)\n",
    " \n",
    "    def call(self,x):\n",
    "        # Alignment scores. Pass them through tanh function\n",
    "        e = K.tanh(K.dot(x,self.W)+self.b)\n",
    "        # Remove dimension of size 1\n",
    "        e = K.squeeze(e, axis=-1)   \n",
    "        # Compute the weights\n",
    "        alpha = K.softmax(e)\n",
    "        # Reshape to tensorFlow format\n",
    "        alpha = K.expand_dims(alpha, axis=-1)\n",
    "        # Compute the context vector\n",
    "        context = x * alpha\n",
    "        context =K.sum(context, axis=1)\n",
    "        return context\n",
    "    \n",
    "    \n",
    "def get_bidirectional_lstm_attention(vectorizer,kernel_regularizer=None, use_dropout=False):\n",
    "    input = tf.keras.layers.Input(shape=[None],dtype=tf.string)\n",
    "    vocab_len = len(vectorizer.get_vocabulary())\n",
    "    x = vectorizer(input)\n",
    "    x = tf.keras.layers.Embedding(input_dim=vocab_len, output_dim=64, mask_zero=True,name=\"embedding\")(x)\n",
    "    x = tf.keras.layers.Bidirectional(tf.keras.layers.LSTM(64, return_sequences=True,kernel_regularizer=kernel_regularizer), name=\"bi_lstm_0\")(x)\n",
    "    # x, forward_h, forward_c, backward_h, backward_c = tf.keras.layers.Bidirectional(tf.keras.layers.LSTM(32,return_sequences=True, return_state=True), name=\"bi_lstm_0\")(x)\n",
    "    # x = tf.keras.layers.Bidirectional(tf.keras.layers.LSTM(64, return_sequences=True,kernel_regularizer=kernel_regularizer), name=\"bi_lstm_1\")(x)\n",
    "    x = Attention()(x)\n",
    "    # x = tf.keras.layers.Dense(64, activation='relu',kernel_regularizer=kernel_regularizer )(x)\n",
    "    x = tf.keras.layers.Dense(64, activation='relu', kernel_regularizer=kernel_regularizer)(x)\n",
    "    if use_dropout:\n",
    "        x = tf.keras.layers.Dropout(rate=0.2)(x)\n",
    "    x = tf.keras.layers.Dense(1)(x)\n",
    "    return tf.keras.Model(inputs=input,outputs=x)\n",
    "\n",
    "\n",
    "def get_bidirectional_gru_attention(vectorizer,kernel_regularizer=None, use_dropout=False):\n",
    "    input = tf.keras.layers.Input(shape=[None],dtype=tf.string)\n",
    "    vocab_len = len(vectorizer.get_vocabulary())\n",
    "    x = vectorizer(input)\n",
    "    x = tf.keras.layers.Embedding(input_dim=vocab_len, output_dim=64, mask_zero=True,name=\"embedding\")(x)\n",
    "    x = tf.keras.layers.Bidirectional(tf.keras.layers.GRU(64, return_sequences=True,kernel_regularizer=kernel_regularizer), name=\"bi_gru_0\")(x)\n",
    "    # x = tf.keras.layers.Bidirectional(tf.keras.layers.GRU(64, return_sequences=True,kernel_regularizer=kernel_regularizer), name=\"bi_lstm_0\")(x)\n",
    "    # x, forward_h, forward_c, backward_h, backward_c = tf.keras.layers.Bidirectional(tf.keras.layers.LSTM(32,return_sequences=True, return_state=True), name=\"bi_lstm_0\")(x)\n",
    "    \n",
    "    x = Attention()(x)\n",
    "    \n",
    "    # x = tf.keras.layers.Dense(64, activation='relu',kernel_regularizer=kernel_regularizer )(x)\n",
    "    x = tf.keras.layers.Dense(64, activation='relu', kernel_regularizer=kernel_regularizer)(x)\n",
    "    if use_dropout:\n",
    "        x = tf.keras.layers.Dropout(rate=0.2)(x)\n",
    "    x = tf.keras.layers.Dense(1)(x)\n",
    "    return tf.keras.Model(inputs=input,outputs=x)\n",
    "\n",
    "    "
   ]
  },
  {
   "cell_type": "code",
   "execution_count": 9,
   "id": "630fddde-ef03-4a79-aa44-d2a11105a3e5",
   "metadata": {},
   "outputs": [],
   "source": [
    "vectorizer = get_text_vectorizer(for_vocabulary,vocab_size=30000)"
   ]
  },
  {
   "cell_type": "code",
   "execution_count": 11,
   "id": "319eb6da-798a-4a79-a268-34e3dee870c5",
   "metadata": {},
   "outputs": [
    {
     "name": "stdout",
     "output_type": "stream",
     "text": [
      "vectorizer loaded\n",
      "Working on 32_0.01_True\n",
      "Model: \"model_4\"\n",
      "_________________________________________________________________\n",
      "Layer (type)                 Output Shape              Param #   \n",
      "=================================================================\n",
      "input_5 (InputLayer)         [(None, None)]            0         \n",
      "_________________________________________________________________\n",
      "text_vectorization (TextVect (None, 500)               0         \n",
      "_________________________________________________________________\n",
      "embedding (Embedding)        (None, 500, 64)           1920000   \n",
      "_________________________________________________________________\n",
      "bi_gru_0 (Bidirectional)     (None, 500, 128)          49920     \n",
      "_________________________________________________________________\n",
      "attention_4 (Attention)      (None, 128)               628       \n",
      "_________________________________________________________________\n",
      "dense_8 (Dense)              (None, 64)                8256      \n",
      "_________________________________________________________________\n",
      "dropout_2 (Dropout)          (None, 64)                0         \n",
      "_________________________________________________________________\n",
      "dense_9 (Dense)              (None, 1)                 65        \n",
      "=================================================================\n",
      "Total params: 1,978,869\n",
      "Trainable params: 1,978,869\n",
      "Non-trainable params: 0\n",
      "_________________________________________________________________\n",
      "None\n",
      "Epoch 1/200\n",
      "547/547 [==============================] - 24s 37ms/step - loss: 0.7211 - binary_accuracy: 0.5007 - val_loss: 0.6931 - val_binary_accuracy: 0.4984\n",
      "Epoch 2/200\n",
      "547/547 [==============================] - 19s 34ms/step - loss: 0.6934 - binary_accuracy: 0.5007 - val_loss: 0.6932 - val_binary_accuracy: 0.4984\n",
      "Epoch 3/200\n",
      "547/547 [==============================] - 19s 34ms/step - loss: 0.6934 - binary_accuracy: 0.5007 - val_loss: 0.6934 - val_binary_accuracy: 0.4984\n",
      "Epoch 4/200\n",
      "547/547 [==============================] - 19s 34ms/step - loss: 0.6934 - binary_accuracy: 0.5007 - val_loss: 0.6932 - val_binary_accuracy: 0.4984\n",
      "Epoch 5/200\n",
      "547/547 [==============================] - 19s 34ms/step - loss: 0.6935 - binary_accuracy: 0.5007 - val_loss: 0.6932 - val_binary_accuracy: 0.4984\n",
      "Epoch 6/200\n",
      "547/547 [==============================] - 19s 34ms/step - loss: 0.6936 - binary_accuracy: 0.5007 - val_loss: 0.6932 - val_binary_accuracy: 0.4984\n",
      "Epoch 7/200\n",
      "547/547 [==============================] - 19s 34ms/step - loss: 0.6935 - binary_accuracy: 0.5007 - val_loss: 0.6932 - val_binary_accuracy: 0.4984\n",
      "Epoch 8/200\n",
      "547/547 [==============================] - 19s 34ms/step - loss: 0.6934 - binary_accuracy: 0.5007 - val_loss: 0.6931 - val_binary_accuracy: 0.4984\n",
      "Epoch 9/200\n",
      "547/547 [==============================] - 19s 34ms/step - loss: 0.6935 - binary_accuracy: 0.5007 - val_loss: 0.6932 - val_binary_accuracy: 0.4984\n",
      "Epoch 10/200\n",
      "547/547 [==============================] - 19s 34ms/step - loss: 0.6934 - binary_accuracy: 0.5007 - val_loss: 0.6933 - val_binary_accuracy: 0.4984\n",
      "Epoch 11/200\n",
      "547/547 [==============================] - 19s 34ms/step - loss: 0.6936 - binary_accuracy: 0.5007 - val_loss: 0.6932 - val_binary_accuracy: 0.4984\n",
      "For 32_0.01_True accuracy 0.5016 early_stopping 0.6931430101394653\n"
     ]
    },
    {
     "name": "stderr",
     "output_type": "stream",
     "text": [
      "WARNING:absl:Found untraced functions such as gru_cell_13_layer_call_fn, gru_cell_13_layer_call_and_return_conditional_losses, gru_cell_14_layer_call_fn, gru_cell_14_layer_call_and_return_conditional_losses, gru_cell_13_layer_call_fn while saving (showing 5 of 10). These functions will not be directly callable after loading.\n"
     ]
    },
    {
     "name": "stdout",
     "output_type": "stream",
     "text": [
      "INFO:tensorflow:Assets written to: results_gru/32_0.01_True/best_model.hd5/assets\n"
     ]
    },
    {
     "name": "stderr",
     "output_type": "stream",
     "text": [
      "INFO:tensorflow:Assets written to: results_gru/32_0.01_True/best_model.hd5/assets\n"
     ]
    },
    {
     "name": "stdout",
     "output_type": "stream",
     "text": [
      "Working on 32_0.01_False\n",
      "Model: \"model_5\"\n",
      "_________________________________________________________________\n",
      "Layer (type)                 Output Shape              Param #   \n",
      "=================================================================\n",
      "input_6 (InputLayer)         [(None, None)]            0         \n",
      "_________________________________________________________________\n",
      "text_vectorization (TextVect (None, 500)               0         \n",
      "_________________________________________________________________\n",
      "embedding (Embedding)        (None, 500, 64)           1920000   \n",
      "_________________________________________________________________\n",
      "bi_gru_0 (Bidirectional)     (None, 500, 128)          49920     \n",
      "_________________________________________________________________\n",
      "attention_5 (Attention)      (None, 128)               628       \n",
      "_________________________________________________________________\n",
      "dense_10 (Dense)             (None, 64)                8256      \n",
      "_________________________________________________________________\n",
      "dense_11 (Dense)             (None, 1)                 65        \n",
      "=================================================================\n",
      "Total params: 1,978,869\n",
      "Trainable params: 1,978,869\n",
      "Non-trainable params: 0\n",
      "_________________________________________________________________\n",
      "None\n",
      "Epoch 1/200\n",
      "547/547 [==============================] - 24s 37ms/step - loss: 0.3556 - binary_accuracy: 0.8362 - val_loss: 0.2465 - val_binary_accuracy: 0.8949\n",
      "Epoch 2/200\n",
      "547/547 [==============================] - 19s 34ms/step - loss: 0.1182 - binary_accuracy: 0.9548 - val_loss: 0.3303 - val_binary_accuracy: 0.8739\n",
      "Epoch 3/200\n",
      "547/547 [==============================] - 19s 34ms/step - loss: 0.0493 - binary_accuracy: 0.9820 - val_loss: 0.3915 - val_binary_accuracy: 0.8788\n",
      "Epoch 4/200\n",
      "547/547 [==============================] - 19s 34ms/step - loss: 0.0308 - binary_accuracy: 0.9894 - val_loss: 0.4419 - val_binary_accuracy: 0.8777\n",
      "Epoch 5/200\n",
      "241/547 [============>.................] - ETA: 8s - loss: 0.0298 - binary_accuracy: 0.9890"
     ]
    },
    {
     "ename": "KeyboardInterrupt",
     "evalue": "",
     "output_type": "error",
     "traceback": [
      "\u001b[0;31m---------------------------------------------------------------------------\u001b[0m",
      "\u001b[0;31mKeyboardInterrupt\u001b[0m                         Traceback (most recent call last)",
      "Cell \u001b[0;32mIn[11], line 23\u001b[0m\n\u001b[1;32m     21\u001b[0m early_callback \u001b[38;5;241m=\u001b[39m tf\u001b[38;5;241m.\u001b[39mkeras\u001b[38;5;241m.\u001b[39mcallbacks\u001b[38;5;241m.\u001b[39mEarlyStopping(patience\u001b[38;5;241m=\u001b[39m\u001b[38;5;241m10\u001b[39m, monitor\u001b[38;5;241m=\u001b[39m\u001b[38;5;124m\"\u001b[39m\u001b[38;5;124mval_loss\u001b[39m\u001b[38;5;124m\"\u001b[39m, restore_best_weights\u001b[38;5;241m=\u001b[39m\u001b[38;5;28;01mTrue\u001b[39;00m)\n\u001b[1;32m     22\u001b[0m optimizer \u001b[38;5;241m=\u001b[39m tf\u001b[38;5;241m.\u001b[39mkeras\u001b[38;5;241m.\u001b[39moptimizers\u001b[38;5;241m.\u001b[39mAdam(learning_rate\u001b[38;5;241m=\u001b[39mlearning_rate)\n\u001b[0;32m---> 23\u001b[0m history \u001b[38;5;241m=\u001b[39m \u001b[43mtrain_model\u001b[49m\u001b[43m(\u001b[49m\u001b[43mmodel\u001b[49m\u001b[43m,\u001b[49m\u001b[43m \u001b[49m\u001b[43mtrain_ds\u001b[49m\u001b[43m,\u001b[49m\u001b[43m \u001b[49m\u001b[43mval_ds\u001b[49m\u001b[43m,\u001b[49m\u001b[43m \u001b[49m\u001b[43mloss_fn\u001b[49m\u001b[43m,\u001b[49m\u001b[43m \u001b[49m\u001b[43mbatch_size\u001b[49m\u001b[38;5;241;43m=\u001b[39;49m\u001b[43mbatch_size\u001b[49m\u001b[43m,\u001b[49m\u001b[43m \u001b[49m\u001b[43moptimizer\u001b[49m\u001b[38;5;241;43m=\u001b[39;49m\u001b[43moptimizer\u001b[49m\u001b[43m,\u001b[49m\u001b[43m \u001b[49m\u001b[43mcallbacks\u001b[49m\u001b[38;5;241;43m=\u001b[39;49m\u001b[43m[\u001b[49m\u001b[43mearly_callback\u001b[49m\u001b[43m]\u001b[49m\u001b[43m,\u001b[49m\u001b[43mepochs\u001b[49m\u001b[38;5;241;43m=\u001b[39;49m\u001b[38;5;241;43m200\u001b[39;49m\u001b[43m)\u001b[49m\n\u001b[1;32m     24\u001b[0m accuracy \u001b[38;5;241m=\u001b[39m evaluate_model(model, val_ds,result_path\u001b[38;5;241m=\u001b[39mresult_path)\n\u001b[1;32m     25\u001b[0m plot_training_graphs(history, result_path)\n",
      "Cell \u001b[0;32mIn[7], line 21\u001b[0m, in \u001b[0;36mtrain_model\u001b[0;34m(model, train_ds, val_ds, loss_fn, batch_size, optimizer, callbacks, epochs)\u001b[0m\n\u001b[1;32m     18\u001b[0m val_batched \u001b[38;5;241m=\u001b[39m val_ds\u001b[38;5;241m.\u001b[39mshuffle(\u001b[38;5;241m1000\u001b[39m)\u001b[38;5;241m.\u001b[39mbatch(batch_size)\n\u001b[1;32m     19\u001b[0m model\u001b[38;5;241m.\u001b[39mcompile(loss\u001b[38;5;241m=\u001b[39mloss_fn, optimizer\u001b[38;5;241m=\u001b[39moptimizer,\n\u001b[1;32m     20\u001b[0m           metrics\u001b[38;5;241m=\u001b[39m[tf\u001b[38;5;241m.\u001b[39mmetrics\u001b[38;5;241m.\u001b[39mBinaryAccuracy(threshold\u001b[38;5;241m=\u001b[39m\u001b[38;5;241m0.5\u001b[39m)])\n\u001b[0;32m---> 21\u001b[0m history \u001b[38;5;241m=\u001b[39m \u001b[43mmodel\u001b[49m\u001b[38;5;241;43m.\u001b[39;49m\u001b[43mfit\u001b[49m\u001b[43m(\u001b[49m\u001b[43mtrain_batched\u001b[49m\u001b[43m,\u001b[49m\u001b[43m \u001b[49m\u001b[43mepochs\u001b[49m\u001b[38;5;241;43m=\u001b[39;49m\u001b[43mepochs\u001b[49m\u001b[43m,\u001b[49m\u001b[43m \u001b[49m\u001b[43mvalidation_data\u001b[49m\u001b[38;5;241;43m=\u001b[39;49m\u001b[43mval_batched\u001b[49m\u001b[43m,\u001b[49m\u001b[43mcallbacks\u001b[49m\u001b[38;5;241;43m=\u001b[39;49m\u001b[43mcallbacks\u001b[49m\u001b[43m)\u001b[49m\n\u001b[1;32m     22\u001b[0m \u001b[38;5;28;01mreturn\u001b[39;00m history\n",
      "File \u001b[0;32m/common/cse479/shared/envs/tensorflow-env/lib/python3.9/site-packages/keras/engine/training.py:1184\u001b[0m, in \u001b[0;36mModel.fit\u001b[0;34m(self, x, y, batch_size, epochs, verbose, callbacks, validation_split, validation_data, shuffle, class_weight, sample_weight, initial_epoch, steps_per_epoch, validation_steps, validation_batch_size, validation_freq, max_queue_size, workers, use_multiprocessing)\u001b[0m\n\u001b[1;32m   1177\u001b[0m \u001b[38;5;28;01mwith\u001b[39;00m tf\u001b[38;5;241m.\u001b[39mprofiler\u001b[38;5;241m.\u001b[39mexperimental\u001b[38;5;241m.\u001b[39mTrace(\n\u001b[1;32m   1178\u001b[0m     \u001b[38;5;124m'\u001b[39m\u001b[38;5;124mtrain\u001b[39m\u001b[38;5;124m'\u001b[39m,\n\u001b[1;32m   1179\u001b[0m     epoch_num\u001b[38;5;241m=\u001b[39mepoch,\n\u001b[1;32m   1180\u001b[0m     step_num\u001b[38;5;241m=\u001b[39mstep,\n\u001b[1;32m   1181\u001b[0m     batch_size\u001b[38;5;241m=\u001b[39mbatch_size,\n\u001b[1;32m   1182\u001b[0m     _r\u001b[38;5;241m=\u001b[39m\u001b[38;5;241m1\u001b[39m):\n\u001b[1;32m   1183\u001b[0m   callbacks\u001b[38;5;241m.\u001b[39mon_train_batch_begin(step)\n\u001b[0;32m-> 1184\u001b[0m   tmp_logs \u001b[38;5;241m=\u001b[39m \u001b[38;5;28;43mself\u001b[39;49m\u001b[38;5;241;43m.\u001b[39;49m\u001b[43mtrain_function\u001b[49m\u001b[43m(\u001b[49m\u001b[43miterator\u001b[49m\u001b[43m)\u001b[49m\n\u001b[1;32m   1185\u001b[0m   \u001b[38;5;28;01mif\u001b[39;00m data_handler\u001b[38;5;241m.\u001b[39mshould_sync:\n\u001b[1;32m   1186\u001b[0m     context\u001b[38;5;241m.\u001b[39masync_wait()\n",
      "File \u001b[0;32m/common/cse479/shared/envs/tensorflow-env/lib/python3.9/site-packages/tensorflow/python/eager/def_function.py:885\u001b[0m, in \u001b[0;36mFunction.__call__\u001b[0;34m(self, *args, **kwds)\u001b[0m\n\u001b[1;32m    882\u001b[0m compiler \u001b[38;5;241m=\u001b[39m \u001b[38;5;124m\"\u001b[39m\u001b[38;5;124mxla\u001b[39m\u001b[38;5;124m\"\u001b[39m \u001b[38;5;28;01mif\u001b[39;00m \u001b[38;5;28mself\u001b[39m\u001b[38;5;241m.\u001b[39m_jit_compile \u001b[38;5;28;01melse\u001b[39;00m \u001b[38;5;124m\"\u001b[39m\u001b[38;5;124mnonXla\u001b[39m\u001b[38;5;124m\"\u001b[39m\n\u001b[1;32m    884\u001b[0m \u001b[38;5;28;01mwith\u001b[39;00m OptionalXlaContext(\u001b[38;5;28mself\u001b[39m\u001b[38;5;241m.\u001b[39m_jit_compile):\n\u001b[0;32m--> 885\u001b[0m   result \u001b[38;5;241m=\u001b[39m \u001b[38;5;28;43mself\u001b[39;49m\u001b[38;5;241;43m.\u001b[39;49m\u001b[43m_call\u001b[49m\u001b[43m(\u001b[49m\u001b[38;5;241;43m*\u001b[39;49m\u001b[43margs\u001b[49m\u001b[43m,\u001b[49m\u001b[43m \u001b[49m\u001b[38;5;241;43m*\u001b[39;49m\u001b[38;5;241;43m*\u001b[39;49m\u001b[43mkwds\u001b[49m\u001b[43m)\u001b[49m\n\u001b[1;32m    887\u001b[0m new_tracing_count \u001b[38;5;241m=\u001b[39m \u001b[38;5;28mself\u001b[39m\u001b[38;5;241m.\u001b[39mexperimental_get_tracing_count()\n\u001b[1;32m    888\u001b[0m without_tracing \u001b[38;5;241m=\u001b[39m (tracing_count \u001b[38;5;241m==\u001b[39m new_tracing_count)\n",
      "File \u001b[0;32m/common/cse479/shared/envs/tensorflow-env/lib/python3.9/site-packages/tensorflow/python/eager/def_function.py:917\u001b[0m, in \u001b[0;36mFunction._call\u001b[0;34m(self, *args, **kwds)\u001b[0m\n\u001b[1;32m    914\u001b[0m   \u001b[38;5;28mself\u001b[39m\u001b[38;5;241m.\u001b[39m_lock\u001b[38;5;241m.\u001b[39mrelease()\n\u001b[1;32m    915\u001b[0m   \u001b[38;5;66;03m# In this case we have created variables on the first call, so we run the\u001b[39;00m\n\u001b[1;32m    916\u001b[0m   \u001b[38;5;66;03m# defunned version which is guaranteed to never create variables.\u001b[39;00m\n\u001b[0;32m--> 917\u001b[0m   \u001b[38;5;28;01mreturn\u001b[39;00m \u001b[38;5;28;43mself\u001b[39;49m\u001b[38;5;241;43m.\u001b[39;49m\u001b[43m_stateless_fn\u001b[49m\u001b[43m(\u001b[49m\u001b[38;5;241;43m*\u001b[39;49m\u001b[43margs\u001b[49m\u001b[43m,\u001b[49m\u001b[43m \u001b[49m\u001b[38;5;241;43m*\u001b[39;49m\u001b[38;5;241;43m*\u001b[39;49m\u001b[43mkwds\u001b[49m\u001b[43m)\u001b[49m  \u001b[38;5;66;03m# pylint: disable=not-callable\u001b[39;00m\n\u001b[1;32m    918\u001b[0m \u001b[38;5;28;01melif\u001b[39;00m \u001b[38;5;28mself\u001b[39m\u001b[38;5;241m.\u001b[39m_stateful_fn \u001b[38;5;129;01mis\u001b[39;00m \u001b[38;5;129;01mnot\u001b[39;00m \u001b[38;5;28;01mNone\u001b[39;00m:\n\u001b[1;32m    919\u001b[0m   \u001b[38;5;66;03m# Release the lock early so that multiple threads can perform the call\u001b[39;00m\n\u001b[1;32m    920\u001b[0m   \u001b[38;5;66;03m# in parallel.\u001b[39;00m\n\u001b[1;32m    921\u001b[0m   \u001b[38;5;28mself\u001b[39m\u001b[38;5;241m.\u001b[39m_lock\u001b[38;5;241m.\u001b[39mrelease()\n",
      "File \u001b[0;32m/common/cse479/shared/envs/tensorflow-env/lib/python3.9/site-packages/tensorflow/python/eager/function.py:3039\u001b[0m, in \u001b[0;36mFunction.__call__\u001b[0;34m(self, *args, **kwargs)\u001b[0m\n\u001b[1;32m   3036\u001b[0m \u001b[38;5;28;01mwith\u001b[39;00m \u001b[38;5;28mself\u001b[39m\u001b[38;5;241m.\u001b[39m_lock:\n\u001b[1;32m   3037\u001b[0m   (graph_function,\n\u001b[1;32m   3038\u001b[0m    filtered_flat_args) \u001b[38;5;241m=\u001b[39m \u001b[38;5;28mself\u001b[39m\u001b[38;5;241m.\u001b[39m_maybe_define_function(args, kwargs)\n\u001b[0;32m-> 3039\u001b[0m \u001b[38;5;28;01mreturn\u001b[39;00m \u001b[43mgraph_function\u001b[49m\u001b[38;5;241;43m.\u001b[39;49m\u001b[43m_call_flat\u001b[49m\u001b[43m(\u001b[49m\n\u001b[1;32m   3040\u001b[0m \u001b[43m    \u001b[49m\u001b[43mfiltered_flat_args\u001b[49m\u001b[43m,\u001b[49m\u001b[43m \u001b[49m\u001b[43mcaptured_inputs\u001b[49m\u001b[38;5;241;43m=\u001b[39;49m\u001b[43mgraph_function\u001b[49m\u001b[38;5;241;43m.\u001b[39;49m\u001b[43mcaptured_inputs\u001b[49m\u001b[43m)\u001b[49m\n",
      "File \u001b[0;32m/common/cse479/shared/envs/tensorflow-env/lib/python3.9/site-packages/tensorflow/python/eager/function.py:1963\u001b[0m, in \u001b[0;36mConcreteFunction._call_flat\u001b[0;34m(self, args, captured_inputs, cancellation_manager)\u001b[0m\n\u001b[1;32m   1959\u001b[0m possible_gradient_type \u001b[38;5;241m=\u001b[39m gradients_util\u001b[38;5;241m.\u001b[39mPossibleTapeGradientTypes(args)\n\u001b[1;32m   1960\u001b[0m \u001b[38;5;28;01mif\u001b[39;00m (possible_gradient_type \u001b[38;5;241m==\u001b[39m gradients_util\u001b[38;5;241m.\u001b[39mPOSSIBLE_GRADIENT_TYPES_NONE\n\u001b[1;32m   1961\u001b[0m     \u001b[38;5;129;01mand\u001b[39;00m executing_eagerly):\n\u001b[1;32m   1962\u001b[0m   \u001b[38;5;66;03m# No tape is watching; skip to running the function.\u001b[39;00m\n\u001b[0;32m-> 1963\u001b[0m   \u001b[38;5;28;01mreturn\u001b[39;00m \u001b[38;5;28mself\u001b[39m\u001b[38;5;241m.\u001b[39m_build_call_outputs(\u001b[38;5;28;43mself\u001b[39;49m\u001b[38;5;241;43m.\u001b[39;49m\u001b[43m_inference_function\u001b[49m\u001b[38;5;241;43m.\u001b[39;49m\u001b[43mcall\u001b[49m\u001b[43m(\u001b[49m\n\u001b[1;32m   1964\u001b[0m \u001b[43m      \u001b[49m\u001b[43mctx\u001b[49m\u001b[43m,\u001b[49m\u001b[43m \u001b[49m\u001b[43margs\u001b[49m\u001b[43m,\u001b[49m\u001b[43m \u001b[49m\u001b[43mcancellation_manager\u001b[49m\u001b[38;5;241;43m=\u001b[39;49m\u001b[43mcancellation_manager\u001b[49m\u001b[43m)\u001b[49m)\n\u001b[1;32m   1965\u001b[0m forward_backward \u001b[38;5;241m=\u001b[39m \u001b[38;5;28mself\u001b[39m\u001b[38;5;241m.\u001b[39m_select_forward_and_backward_functions(\n\u001b[1;32m   1966\u001b[0m     args,\n\u001b[1;32m   1967\u001b[0m     possible_gradient_type,\n\u001b[1;32m   1968\u001b[0m     executing_eagerly)\n\u001b[1;32m   1969\u001b[0m forward_function, args_with_tangents \u001b[38;5;241m=\u001b[39m forward_backward\u001b[38;5;241m.\u001b[39mforward()\n",
      "File \u001b[0;32m/common/cse479/shared/envs/tensorflow-env/lib/python3.9/site-packages/tensorflow/python/eager/function.py:591\u001b[0m, in \u001b[0;36m_EagerDefinedFunction.call\u001b[0;34m(self, ctx, args, cancellation_manager)\u001b[0m\n\u001b[1;32m    589\u001b[0m \u001b[38;5;28;01mwith\u001b[39;00m _InterpolateFunctionError(\u001b[38;5;28mself\u001b[39m):\n\u001b[1;32m    590\u001b[0m   \u001b[38;5;28;01mif\u001b[39;00m cancellation_manager \u001b[38;5;129;01mis\u001b[39;00m \u001b[38;5;28;01mNone\u001b[39;00m:\n\u001b[0;32m--> 591\u001b[0m     outputs \u001b[38;5;241m=\u001b[39m \u001b[43mexecute\u001b[49m\u001b[38;5;241;43m.\u001b[39;49m\u001b[43mexecute\u001b[49m\u001b[43m(\u001b[49m\n\u001b[1;32m    592\u001b[0m \u001b[43m        \u001b[49m\u001b[38;5;28;43mstr\u001b[39;49m\u001b[43m(\u001b[49m\u001b[38;5;28;43mself\u001b[39;49m\u001b[38;5;241;43m.\u001b[39;49m\u001b[43msignature\u001b[49m\u001b[38;5;241;43m.\u001b[39;49m\u001b[43mname\u001b[49m\u001b[43m)\u001b[49m\u001b[43m,\u001b[49m\n\u001b[1;32m    593\u001b[0m \u001b[43m        \u001b[49m\u001b[43mnum_outputs\u001b[49m\u001b[38;5;241;43m=\u001b[39;49m\u001b[38;5;28;43mself\u001b[39;49m\u001b[38;5;241;43m.\u001b[39;49m\u001b[43m_num_outputs\u001b[49m\u001b[43m,\u001b[49m\n\u001b[1;32m    594\u001b[0m \u001b[43m        \u001b[49m\u001b[43minputs\u001b[49m\u001b[38;5;241;43m=\u001b[39;49m\u001b[43margs\u001b[49m\u001b[43m,\u001b[49m\n\u001b[1;32m    595\u001b[0m \u001b[43m        \u001b[49m\u001b[43mattrs\u001b[49m\u001b[38;5;241;43m=\u001b[39;49m\u001b[43mattrs\u001b[49m\u001b[43m,\u001b[49m\n\u001b[1;32m    596\u001b[0m \u001b[43m        \u001b[49m\u001b[43mctx\u001b[49m\u001b[38;5;241;43m=\u001b[39;49m\u001b[43mctx\u001b[49m\u001b[43m)\u001b[49m\n\u001b[1;32m    597\u001b[0m   \u001b[38;5;28;01melse\u001b[39;00m:\n\u001b[1;32m    598\u001b[0m     outputs \u001b[38;5;241m=\u001b[39m execute\u001b[38;5;241m.\u001b[39mexecute_with_cancellation(\n\u001b[1;32m    599\u001b[0m         \u001b[38;5;28mstr\u001b[39m(\u001b[38;5;28mself\u001b[39m\u001b[38;5;241m.\u001b[39msignature\u001b[38;5;241m.\u001b[39mname),\n\u001b[1;32m    600\u001b[0m         num_outputs\u001b[38;5;241m=\u001b[39m\u001b[38;5;28mself\u001b[39m\u001b[38;5;241m.\u001b[39m_num_outputs,\n\u001b[0;32m   (...)\u001b[0m\n\u001b[1;32m    603\u001b[0m         ctx\u001b[38;5;241m=\u001b[39mctx,\n\u001b[1;32m    604\u001b[0m         cancellation_manager\u001b[38;5;241m=\u001b[39mcancellation_manager)\n",
      "File \u001b[0;32m/common/cse479/shared/envs/tensorflow-env/lib/python3.9/site-packages/tensorflow/python/eager/execute.py:59\u001b[0m, in \u001b[0;36mquick_execute\u001b[0;34m(op_name, num_outputs, inputs, attrs, ctx, name)\u001b[0m\n\u001b[1;32m     57\u001b[0m \u001b[38;5;28;01mtry\u001b[39;00m:\n\u001b[1;32m     58\u001b[0m   ctx\u001b[38;5;241m.\u001b[39mensure_initialized()\n\u001b[0;32m---> 59\u001b[0m   tensors \u001b[38;5;241m=\u001b[39m \u001b[43mpywrap_tfe\u001b[49m\u001b[38;5;241;43m.\u001b[39;49m\u001b[43mTFE_Py_Execute\u001b[49m\u001b[43m(\u001b[49m\u001b[43mctx\u001b[49m\u001b[38;5;241;43m.\u001b[39;49m\u001b[43m_handle\u001b[49m\u001b[43m,\u001b[49m\u001b[43m \u001b[49m\u001b[43mdevice_name\u001b[49m\u001b[43m,\u001b[49m\u001b[43m \u001b[49m\u001b[43mop_name\u001b[49m\u001b[43m,\u001b[49m\n\u001b[1;32m     60\u001b[0m \u001b[43m                                      \u001b[49m\u001b[43minputs\u001b[49m\u001b[43m,\u001b[49m\u001b[43m \u001b[49m\u001b[43mattrs\u001b[49m\u001b[43m,\u001b[49m\u001b[43m \u001b[49m\u001b[43mnum_outputs\u001b[49m\u001b[43m)\u001b[49m\n\u001b[1;32m     61\u001b[0m \u001b[38;5;28;01mexcept\u001b[39;00m core\u001b[38;5;241m.\u001b[39m_NotOkStatusException \u001b[38;5;28;01mas\u001b[39;00m e:\n\u001b[1;32m     62\u001b[0m   \u001b[38;5;28;01mif\u001b[39;00m name \u001b[38;5;129;01mis\u001b[39;00m \u001b[38;5;129;01mnot\u001b[39;00m \u001b[38;5;28;01mNone\u001b[39;00m:\n",
      "\u001b[0;31mKeyboardInterrupt\u001b[0m: "
     ]
    }
   ],
   "source": [
    "#experiment 1\n",
    "import pandas as pd\n",
    "from pathlib import Path \n",
    "loss_fn = tf.keras.losses.BinaryCrossentropy(from_logits=True)\n",
    "# vectorizer = get_text_vectorizer(for_vocabulary)\n",
    "model_fn = get_bidirectional_gru_attention\n",
    "result_dir = Path(\"./results_gru\")\n",
    "exp_results = []\n",
    "print(\"vectorizer loaded\")\n",
    "for batch_size in [32,64]:\n",
    "    for learning_rate in [0.01,0.001]:\n",
    "        for regularizer in [True, False]:\n",
    "            s_result = {'batch_size':batch_size,'learning_rate':learning_rate,'regularizer':regularizer}\n",
    "            folder_name = f\"{batch_size}_{learning_rate}_{regularizer}\"\n",
    "            result_path = result_dir.joinpath(folder_name)\n",
    "            result_path.mkdir(parents=True,exist_ok=True)\n",
    "            print(\"Working on\",folder_name)\n",
    "            reg = tf.keras.regularizers.l2() if regularizer else None\n",
    "            model = model_fn(vectorizer=vectorizer,kernel_regularizer=reg,use_dropout=regularizer)\n",
    "            print(model.summary())\n",
    "            early_callback = tf.keras.callbacks.EarlyStopping(patience=10, monitor=\"val_loss\", restore_best_weights=True)\n",
    "            optimizer = tf.keras.optimizers.Adam(learning_rate=learning_rate)\n",
    "            history = train_model(model, train_ds, val_ds, loss_fn, batch_size=batch_size, optimizer=optimizer, callbacks=[early_callback],epochs=200)\n",
    "            accuracy = evaluate_model(model, val_ds,result_path=result_path)\n",
    "            plot_training_graphs(history, result_path)\n",
    "            print(\"For\",folder_name,\"accuracy\",accuracy,\"early_stopping\", early_callback.best)\n",
    "            s_result['accuracy'] = accuracy\n",
    "            s_result['logs'] = history.history \n",
    "            model.save_weights(result_path.joinpath(\"best_weights.hd5\"))\n",
    "            model.save(result_path.joinpath(\"best_model.hd5\"))\n",
    "            # print(\"Accuracy on validation\", accuracy)\n",
    "            # break\n",
    "            s_result['model'] = result_path.joinpath(\"best_model.hd5\")\n",
    "            exp_results.append(s_result)\n",
    "            del model\n",
    "pd.DataFrame(exp_results).to_csv(\"./results_gru/exp_results.csv\")\n",
    "\n"
   ]
  },
  {
   "cell_type": "code",
   "execution_count": null,
   "id": "3f0eeaf5-25b1-421f-8dea-515b148fe9d9",
   "metadata": {},
   "outputs": [],
   "source": [
    "#experiment 1\n",
    "import pandas as pd\n",
    "from pathlib import Path \n",
    "loss_fn = tf.keras.losses.BinaryCrossentropy(from_logits=True)\n",
    "# vectorizer = get_text_vectorizer(for_vocabulary)\n",
    "model_fn = get_bidirectional_lstm_attention\n",
    "result_dir = Path(\"./results_lstm\")\n",
    "exp_results = []\n",
    "print(\"vectorizer loaded\")\n",
    "for batch_size in [32,64]:\n",
    "    for learning_rate in [0.01,0.001]:\n",
    "        for regularizer in [True, False]:\n",
    "            s_result = {'batch_size':batch_size,'learning_rate':learning_rate,'regularizer':regularizer}\n",
    "            folder_name = f\"{batch_size}_{learning_rate}_{regularizer}\"\n",
    "            result_path = result_dir.joinpath(folder_name)\n",
    "            result_path.mkdir(parents=True,exist_ok=True)\n",
    "            print(\"Working on\",folder_name)\n",
    "            reg = tf.keras.regularizers.l2() if regularizer else None\n",
    "            model = model_fn(vectorizer=vectorizer,kernel_regularizer=reg,use_dropout=regularizer)\n",
    "            print(model.summary())\n",
    "            early_callback = tf.keras.callbacks.EarlyStopping(patience=10, monitor=\"val_loss\", restore_best_weights=True)\n",
    "            optimizer = tf.keras.optimizers.Adam(learning_rate=learning_rate)\n",
    "            history = train_model(model, train_ds, val_ds, loss_fn, batch_size=batch_size, optimizer=optimizer, callbacks=[early_callback],epochs=200)\n",
    "            accuracy = evaluate_model(model, val_ds,result_path=result_path)\n",
    "            plot_training_graphs(history, result_path)\n",
    "            print(\"For\",folder_name,\"accuracy\",accuracy,\"early_stopping\", early_callback.best)\n",
    "            s_result['accuracy'] = accuracy\n",
    "            s_result['logs'] = history.history \n",
    "            model.save_weights(result_path.joinpath(\"best_weights.hd5\"))\n",
    "            model.save(result_path.joinpath(\"best_model.hd5\"))\n",
    "            # print(\"Accuracy on validation\", accuracy)\n",
    "            s_result['model'] = result_path.joinpath(\"best_model.hd5\")\n",
    "\n",
    "            # break\n",
    "            exp_results.append(s_result)\n",
    "            del model\n",
    "pd.DataFrame(exp_results).to_csv(\"./results_lstm/exp_results.csv\")\n",
    "\n"
   ]
  },
  {
   "cell_type": "code",
   "execution_count": 1,
   "id": "d60b9def-a3b9-44ef-96af-39bf7adec9da",
   "metadata": {},
   "outputs": [],
   "source": [
    "%load_ext autoreload\n",
    "%autoreload 2"
   ]
  },
  {
   "cell_type": "code",
   "execution_count": 1,
   "id": "1f31234e-2ce0-4777-978d-c9eb7dc5fbf8",
   "metadata": {},
   "outputs": [],
   "source": [
    "#\n",
    "import main\n",
    "import model\n",
    "import util\n",
    "import tensorflow as tf"
   ]
  },
  {
   "cell_type": "code",
   "execution_count": 2,
   "id": "3542392d-7ce8-4ea3-8e8c-ced6dd7bf6cb",
   "metadata": {},
   "outputs": [
    {
     "name": "stderr",
     "output_type": "stream",
     "text": [
      "2024-11-10 15:42:51.264616: I tensorflow/core/platform/cpu_feature_guard.cc:142] This TensorFlow binary is optimized with oneAPI Deep Neural Network Library (oneDNN) to use the following CPU instructions in performance-critical operations:  SSE4.1 SSE4.2 AVX AVX2 AVX512F FMA\n",
      "To enable them in other operations, rebuild TensorFlow with the appropriate compiler flags.\n",
      "2024-11-10 15:42:54.137185: I tensorflow/core/common_runtime/gpu/gpu_device.cc:1510] Created device /job:localhost/replica:0/task:0/device:GPU:0 with 30972 MB memory:  -> device: 0, name: Tesla V100-PCIE-32GB, pci bus id: 0000:d8:00.0, compute capability: 7.0\n"
     ]
    }
   ],
   "source": [
    "train_ds, val_ds = util.get_train_val_ds()\n",
    "vocab = util.get_for_vocab_ds()\n"
   ]
  },
  {
   "cell_type": "code",
   "execution_count": 3,
   "id": "f60048a7-7383-41b4-8a9f-03346633c19b",
   "metadata": {},
   "outputs": [
    {
     "data": {
      "text/plain": [
       "(15000, 10000)"
      ]
     },
     "execution_count": 3,
     "metadata": {},
     "output_type": "execute_result"
    }
   ],
   "source": [
    "len(train_ds),len(val_ds)"
   ]
  },
  {
   "cell_type": "code",
   "execution_count": 4,
   "id": "5668d514-dad0-421d-ad20-bd239cd132d0",
   "metadata": {},
   "outputs": [
    {
     "name": "stderr",
     "output_type": "stream",
     "text": [
      "2024-11-10 15:42:54.595707: I tensorflow/compiler/mlir/mlir_graph_optimization_pass.cc:185] None of the MLIR Optimization Passes are enabled (registered 2)\n"
     ]
    }
   ],
   "source": [
    "vectorizer = util.get_text_vectorizer(vocab, vocab_size=30000,sequence_length=1200)\n"
   ]
  },
  {
   "cell_type": "code",
   "execution_count": null,
   "id": "c0c97838-a60f-41d5-b9b9-2e6fcbe71e9b",
   "metadata": {},
   "outputs": [
    {
     "name": "stdout",
     "output_type": "stream",
     "text": [
      "Working on 32_0.01_True\n",
      "<keras.regularizers.L1L2 object at 0x14c4e1686520>\n",
      "Model: \"model_9\"\n",
      "__________________________________________________________________________________________________\n",
      "Layer (type)                    Output Shape         Param #     Connected to                     \n",
      "==================================================================================================\n",
      "input_10 (InputLayer)           [(None, None)]       0                                            \n",
      "__________________________________________________________________________________________________\n",
      "text_vectorization (TextVectori (None, 1200)         0           input_10[0][0]                   \n",
      "__________________________________________________________________________________________________\n",
      "embedding (Embedding)           (None, 1200, 64)     1920000     text_vectorization[9][0]         \n",
      "__________________________________________________________________________________________________\n",
      "attention_9 (Attention)         (None, 1200, 64)     0           embedding[0][0]                  \n",
      "                                                                 embedding[0][0]                  \n",
      "__________________________________________________________________________________________________\n",
      "bi_lstm_0 (Bidirectional)       (None, 128)          66048       attention_9[0][0]                \n",
      "__________________________________________________________________________________________________\n",
      "dropout_11 (Dropout)            (None, 128)          0           bi_lstm_0[0][0]                  \n",
      "__________________________________________________________________________________________________\n",
      "dense_16 (Dense)                (None, 1)            129         dropout_11[0][0]                 \n",
      "==================================================================================================\n",
      "Total params: 1,986,177\n",
      "Trainable params: 1,986,177\n",
      "Non-trainable params: 0\n",
      "__________________________________________________________________________________________________\n",
      "None\n",
      "Epoch 1/200\n",
      "469/469 [==============================] - 36s 69ms/step - loss: 0.6610 - binary_accuracy: 0.7277 - val_loss: 0.4449 - val_binary_accuracy: 0.8499\n",
      "Epoch 2/200\n",
      "469/469 [==============================] - 30s 64ms/step - loss: 0.4824 - binary_accuracy: 0.8676 - val_loss: 0.4271 - val_binary_accuracy: 0.8443\n",
      "Epoch 3/200\n",
      "469/469 [==============================] - 30s 65ms/step - loss: 0.3255 - binary_accuracy: 0.9067 - val_loss: 0.4658 - val_binary_accuracy: 0.8563\n",
      "Epoch 4/200\n",
      "469/469 [==============================] - 30s 65ms/step - loss: 0.3053 - binary_accuracy: 0.9225 - val_loss: 0.5333 - val_binary_accuracy: 0.8488\n",
      "Epoch 5/200\n",
      "469/469 [==============================] - 30s 65ms/step - loss: 0.2754 - binary_accuracy: 0.9321 - val_loss: 0.5069 - val_binary_accuracy: 0.8441\n",
      "Epoch 6/200\n",
      "469/469 [==============================] - 30s 64ms/step - loss: 0.2297 - binary_accuracy: 0.9469 - val_loss: 0.5649 - val_binary_accuracy: 0.8458\n",
      "Epoch 7/200\n",
      "469/469 [==============================] - 30s 65ms/step - loss: 0.2116 - binary_accuracy: 0.9598 - val_loss: 0.6429 - val_binary_accuracy: 0.8378\n",
      "Epoch 8/200\n",
      "469/469 [==============================] - 30s 64ms/step - loss: 0.2504 - binary_accuracy: 0.9629 - val_loss: 0.5657 - val_binary_accuracy: 0.8405\n",
      "Epoch 9/200\n",
      "469/469 [==============================] - 30s 65ms/step - loss: 1.3166 - binary_accuracy: 0.9591 - val_loss: 21.6933 - val_binary_accuracy: 0.8004\n",
      "Epoch 10/200\n",
      "469/469 [==============================] - 30s 65ms/step - loss: 21.7869 - binary_accuracy: 0.9426 - val_loss: 22.0871 - val_binary_accuracy: 0.7990\n",
      "Epoch 11/200\n",
      "469/469 [==============================] - 30s 65ms/step - loss: 21.5781 - binary_accuracy: 0.9603 - val_loss: 22.0029 - val_binary_accuracy: 0.8260\n",
      "Epoch 12/200\n",
      "469/469 [==============================] - 30s 65ms/step - loss: 21.4815 - binary_accuracy: 0.9746 - val_loss: 22.0925 - val_binary_accuracy: 0.8279\n",
      "Epoch 13/200\n",
      "469/469 [==============================] - 30s 64ms/step - loss: 21.4143 - binary_accuracy: 0.9784 - val_loss: 21.9974 - val_binary_accuracy: 0.8264\n",
      "For 32_0.01_True accuracy 0.8588 early_stopping 0.8562999963760376\n"
     ]
    },
    {
     "name": "stderr",
     "output_type": "stream",
     "text": [
      "WARNING:absl:Found untraced functions such as lstm_cell_28_layer_call_fn, lstm_cell_28_layer_call_and_return_conditional_losses, lstm_cell_29_layer_call_fn, lstm_cell_29_layer_call_and_return_conditional_losses, lstm_cell_28_layer_call_fn while saving (showing 5 of 10). These functions will not be directly callable after loading.\n"
     ]
    },
    {
     "name": "stdout",
     "output_type": "stream",
     "text": [
      "INFO:tensorflow:Assets written to: results_lstm_/32_0.01_True/best_model.hd5/assets\n"
     ]
    },
    {
     "name": "stderr",
     "output_type": "stream",
     "text": [
      "INFO:tensorflow:Assets written to: results_lstm_/32_0.01_True/best_model.hd5/assets\n"
     ]
    },
    {
     "name": "stdout",
     "output_type": "stream",
     "text": [
      "Working on 32_0.01_False\n",
      "None\n",
      "Model: \"model_10\"\n",
      "__________________________________________________________________________________________________\n",
      "Layer (type)                    Output Shape         Param #     Connected to                     \n",
      "==================================================================================================\n",
      "input_11 (InputLayer)           [(None, None)]       0                                            \n",
      "__________________________________________________________________________________________________\n",
      "text_vectorization (TextVectori (None, 1200)         0           input_11[0][0]                   \n",
      "__________________________________________________________________________________________________\n",
      "embedding (Embedding)           (None, 1200, 64)     1920000     text_vectorization[10][0]        \n",
      "__________________________________________________________________________________________________\n",
      "attention_10 (Attention)        (None, 1200, 64)     0           embedding[0][0]                  \n",
      "                                                                 embedding[0][0]                  \n",
      "__________________________________________________________________________________________________\n",
      "bi_lstm_0 (Bidirectional)       (None, 128)          66048       attention_10[0][0]               \n",
      "__________________________________________________________________________________________________\n",
      "dense_17 (Dense)                (None, 1)            129         bi_lstm_0[0][0]                  \n",
      "==================================================================================================\n",
      "Total params: 1,986,177\n",
      "Trainable params: 1,986,177\n",
      "Non-trainable params: 0\n",
      "__________________________________________________________________________________________________\n",
      "None\n",
      "Epoch 1/200\n",
      "469/469 [==============================] - 36s 66ms/step - loss: 0.3852 - binary_accuracy: 0.8213 - val_loss: 0.3484 - val_binary_accuracy: 0.8425\n",
      "Epoch 2/200\n",
      "469/469 [==============================] - 30s 64ms/step - loss: 0.2748 - binary_accuracy: 0.8889 - val_loss: 0.4055 - val_binary_accuracy: 0.8287\n",
      "Epoch 3/200\n",
      "469/469 [==============================] - 30s 64ms/step - loss: 0.2487 - binary_accuracy: 0.8977 - val_loss: 0.4360 - val_binary_accuracy: 0.8299\n",
      "Epoch 4/200\n",
      "469/469 [==============================] - 30s 64ms/step - loss: 0.1522 - binary_accuracy: 0.9425 - val_loss: 0.4724 - val_binary_accuracy: 0.8369\n",
      "Epoch 5/200\n",
      "469/469 [==============================] - 30s 64ms/step - loss: 0.1113 - binary_accuracy: 0.9587 - val_loss: 0.5869 - val_binary_accuracy: 0.8270\n",
      "Epoch 6/200\n",
      "469/469 [==============================] - 30s 64ms/step - loss: 0.0879 - binary_accuracy: 0.9673 - val_loss: 0.5458 - val_binary_accuracy: 0.8218\n",
      "Epoch 7/200\n",
      "469/469 [==============================] - 30s 64ms/step - loss: 0.0656 - binary_accuracy: 0.9759 - val_loss: 0.6079 - val_binary_accuracy: 0.8202\n",
      "Epoch 8/200\n",
      "469/469 [==============================] - 30s 64ms/step - loss: 0.0670 - binary_accuracy: 0.9755 - val_loss: 0.6321 - val_binary_accuracy: 0.8228\n",
      "Epoch 9/200\n",
      "469/469 [==============================] - 30s 64ms/step - loss: 0.0492 - binary_accuracy: 0.9837 - val_loss: 0.7187 - val_binary_accuracy: 0.8048\n",
      "Epoch 10/200\n",
      "469/469 [==============================] - 30s 64ms/step - loss: 0.0483 - binary_accuracy: 0.9832 - val_loss: 0.8050 - val_binary_accuracy: 0.8107\n",
      "Epoch 11/200\n",
      "469/469 [==============================] - 30s 64ms/step - loss: 0.0424 - binary_accuracy: 0.9850 - val_loss: 0.7835 - val_binary_accuracy: 0.8035\n",
      "For 32_0.01_False accuracy 0.8514 early_stopping 0.8424999713897705\n"
     ]
    },
    {
     "name": "stderr",
     "output_type": "stream",
     "text": [
      "WARNING:absl:Found untraced functions such as lstm_cell_31_layer_call_fn, lstm_cell_31_layer_call_and_return_conditional_losses, lstm_cell_32_layer_call_fn, lstm_cell_32_layer_call_and_return_conditional_losses, lstm_cell_31_layer_call_fn while saving (showing 5 of 10). These functions will not be directly callable after loading.\n"
     ]
    },
    {
     "name": "stdout",
     "output_type": "stream",
     "text": [
      "INFO:tensorflow:Assets written to: results_lstm_/32_0.01_False/best_model.hd5/assets\n"
     ]
    },
    {
     "name": "stderr",
     "output_type": "stream",
     "text": [
      "INFO:tensorflow:Assets written to: results_lstm_/32_0.01_False/best_model.hd5/assets\n"
     ]
    },
    {
     "name": "stdout",
     "output_type": "stream",
     "text": [
      "Working on 32_0.001_True\n",
      "<keras.regularizers.L1L2 object at 0x14cce92d5970>\n",
      "Model: \"model_11\"\n",
      "__________________________________________________________________________________________________\n",
      "Layer (type)                    Output Shape         Param #     Connected to                     \n",
      "==================================================================================================\n",
      "input_12 (InputLayer)           [(None, None)]       0                                            \n",
      "__________________________________________________________________________________________________\n",
      "text_vectorization (TextVectori (None, 1200)         0           input_12[0][0]                   \n",
      "__________________________________________________________________________________________________\n",
      "embedding (Embedding)           (None, 1200, 64)     1920000     text_vectorization[11][0]        \n",
      "__________________________________________________________________________________________________\n",
      "attention_11 (Attention)        (None, 1200, 64)     0           embedding[0][0]                  \n",
      "                                                                 embedding[0][0]                  \n",
      "__________________________________________________________________________________________________\n",
      "bi_lstm_0 (Bidirectional)       (None, 128)          66048       attention_11[0][0]               \n",
      "__________________________________________________________________________________________________\n",
      "dropout_12 (Dropout)            (None, 128)          0           bi_lstm_0[0][0]                  \n",
      "__________________________________________________________________________________________________\n",
      "dense_18 (Dense)                (None, 1)            129         dropout_12[0][0]                 \n",
      "==================================================================================================\n",
      "Total params: 1,986,177\n",
      "Trainable params: 1,986,177\n",
      "Non-trainable params: 0\n",
      "__________________________________________________________________________________________________\n",
      "None\n",
      "Epoch 1/200\n",
      "469/469 [==============================] - 35s 66ms/step - loss: 1.1265 - binary_accuracy: 0.5184 - val_loss: 0.6959 - val_binary_accuracy: 0.4990\n",
      "Epoch 2/200\n",
      "469/469 [==============================] - 30s 64ms/step - loss: 0.5757 - binary_accuracy: 0.6755 - val_loss: 0.8242 - val_binary_accuracy: 0.6808\n",
      "Epoch 3/200\n",
      "469/469 [==============================] - 30s 64ms/step - loss: 0.5138 - binary_accuracy: 0.7133 - val_loss: 0.3761 - val_binary_accuracy: 0.8789\n",
      "Epoch 4/200\n",
      "469/469 [==============================] - 30s 64ms/step - loss: 0.4991 - binary_accuracy: 0.8027 - val_loss: 0.4192 - val_binary_accuracy: 0.8837\n",
      "Epoch 5/200\n",
      "469/469 [==============================] - 30s 64ms/step - loss: 0.2844 - binary_accuracy: 0.9335 - val_loss: 0.4048 - val_binary_accuracy: 0.8868\n",
      "Epoch 6/200\n",
      "469/469 [==============================] - 30s 64ms/step - loss: 0.3383 - binary_accuracy: 0.9067 - val_loss: 0.4717 - val_binary_accuracy: 0.8688\n",
      "Epoch 7/200\n",
      "469/469 [==============================] - 30s 64ms/step - loss: 0.2062 - binary_accuracy: 0.9598 - val_loss: 0.3773 - val_binary_accuracy: 0.8820\n",
      "Epoch 8/200\n",
      "469/469 [==============================] - 30s 65ms/step - loss: 0.1331 - binary_accuracy: 0.9761 - val_loss: 0.3741 - val_binary_accuracy: 0.8792\n",
      "Epoch 9/200\n",
      "469/469 [==============================] - 30s 64ms/step - loss: 0.0908 - binary_accuracy: 0.9843 - val_loss: 0.3891 - val_binary_accuracy: 0.8753\n",
      "Epoch 10/200\n",
      "469/469 [==============================] - 30s 65ms/step - loss: 0.0646 - binary_accuracy: 0.9899 - val_loss: 0.4475 - val_binary_accuracy: 0.8818\n",
      "Epoch 11/200\n",
      "469/469 [==============================] - 30s 64ms/step - loss: 0.0472 - binary_accuracy: 0.9945 - val_loss: 0.4518 - val_binary_accuracy: 0.8796\n",
      "Epoch 12/200\n",
      "469/469 [==============================] - 30s 64ms/step - loss: 0.0431 - binary_accuracy: 0.9944 - val_loss: 0.4809 - val_binary_accuracy: 0.8736\n",
      "Epoch 13/200\n",
      "469/469 [==============================] - 30s 65ms/step - loss: 0.0326 - binary_accuracy: 0.9966 - val_loss: 0.5226 - val_binary_accuracy: 0.8798\n",
      "Epoch 14/200\n",
      "469/469 [==============================] - 30s 64ms/step - loss: 0.0370 - binary_accuracy: 0.9951 - val_loss: 0.4945 - val_binary_accuracy: 0.8783\n",
      "Epoch 15/200\n",
      "469/469 [==============================] - 30s 64ms/step - loss: 0.0291 - binary_accuracy: 0.9971 - val_loss: 0.5236 - val_binary_accuracy: 0.8749\n",
      "For 32_0.001_True accuracy 0.8889 early_stopping 0.8867999911308289\n"
     ]
    },
    {
     "name": "stderr",
     "output_type": "stream",
     "text": [
      "WARNING:absl:Found untraced functions such as lstm_cell_34_layer_call_fn, lstm_cell_34_layer_call_and_return_conditional_losses, lstm_cell_35_layer_call_fn, lstm_cell_35_layer_call_and_return_conditional_losses, lstm_cell_34_layer_call_fn while saving (showing 5 of 10). These functions will not be directly callable after loading.\n"
     ]
    },
    {
     "name": "stdout",
     "output_type": "stream",
     "text": [
      "INFO:tensorflow:Assets written to: results_lstm_/32_0.001_True/best_model.hd5/assets\n"
     ]
    },
    {
     "name": "stderr",
     "output_type": "stream",
     "text": [
      "INFO:tensorflow:Assets written to: results_lstm_/32_0.001_True/best_model.hd5/assets\n"
     ]
    },
    {
     "name": "stdout",
     "output_type": "stream",
     "text": [
      "Working on 32_0.001_False\n",
      "None\n",
      "Model: \"model_12\"\n",
      "__________________________________________________________________________________________________\n",
      "Layer (type)                    Output Shape         Param #     Connected to                     \n",
      "==================================================================================================\n",
      "input_13 (InputLayer)           [(None, None)]       0                                            \n",
      "__________________________________________________________________________________________________\n",
      "text_vectorization (TextVectori (None, 1200)         0           input_13[0][0]                   \n",
      "__________________________________________________________________________________________________\n",
      "embedding (Embedding)           (None, 1200, 64)     1920000     text_vectorization[12][0]        \n",
      "__________________________________________________________________________________________________\n",
      "attention_12 (Attention)        (None, 1200, 64)     0           embedding[0][0]                  \n",
      "                                                                 embedding[0][0]                  \n",
      "__________________________________________________________________________________________________\n",
      "bi_lstm_0 (Bidirectional)       (None, 128)          66048       attention_12[0][0]               \n",
      "__________________________________________________________________________________________________\n",
      "dense_19 (Dense)                (None, 1)            129         bi_lstm_0[0][0]                  \n",
      "==================================================================================================\n",
      "Total params: 1,986,177\n",
      "Trainable params: 1,986,177\n",
      "Non-trainable params: 0\n",
      "__________________________________________________________________________________________________\n",
      "None\n",
      "Epoch 1/200\n",
      "469/469 [==============================] - 35s 66ms/step - loss: 0.4379 - binary_accuracy: 0.7817 - val_loss: 0.3354 - val_binary_accuracy: 0.8612\n",
      "Epoch 2/200\n",
      "469/469 [==============================] - 30s 63ms/step - loss: 0.2071 - binary_accuracy: 0.9212 - val_loss: 0.3494 - val_binary_accuracy: 0.8681\n",
      "Epoch 3/200\n",
      "469/469 [==============================] - 30s 63ms/step - loss: 0.1114 - binary_accuracy: 0.9637 - val_loss: 0.4196 - val_binary_accuracy: 0.8714\n",
      "Epoch 4/200\n",
      "469/469 [==============================] - 30s 63ms/step - loss: 0.0841 - binary_accuracy: 0.9757 - val_loss: 0.4662 - val_binary_accuracy: 0.8661\n",
      "Epoch 5/200\n",
      "469/469 [==============================] - 30s 64ms/step - loss: 0.1012 - binary_accuracy: 0.9582 - val_loss: 0.4636 - val_binary_accuracy: 0.8679\n",
      "Epoch 6/200\n",
      "469/469 [==============================] - 30s 63ms/step - loss: 0.0142 - binary_accuracy: 0.9967 - val_loss: 0.8078 - val_binary_accuracy: 0.8687\n",
      "Epoch 9/200\n",
      "469/469 [==============================] - 30s 64ms/step - loss: 0.0171 - binary_accuracy: 0.9946 - val_loss: 0.6570 - val_binary_accuracy: 0.8673\n",
      "Epoch 10/200\n",
      "469/469 [==============================] - 30s 64ms/step - loss: 0.0073 - binary_accuracy: 0.9976 - val_loss: 0.7786 - val_binary_accuracy: 0.8686\n",
      "Epoch 11/200\n",
      "469/469 [==============================] - 30s 64ms/step - loss: 0.0017 - binary_accuracy: 0.9994 - val_loss: 0.9363 - val_binary_accuracy: 0.8680\n",
      "Epoch 12/200\n",
      "469/469 [==============================] - 30s 64ms/step - loss: 0.0125 - binary_accuracy: 0.9964 - val_loss: 0.8619 - val_binary_accuracy: 0.8666\n",
      "Epoch 13/200\n",
      "469/469 [==============================] - 30s 64ms/step - loss: 0.0103 - binary_accuracy: 0.9974 - val_loss: 0.9428 - val_binary_accuracy: 0.8624\n",
      "Epoch 14/200\n",
      "469/469 [==============================] - 30s 64ms/step - loss: 0.0360 - binary_accuracy: 0.9899 - val_loss: 0.5489 - val_binary_accuracy: 0.8587\n",
      "Epoch 15/200\n",
      "469/469 [==============================] - 30s 64ms/step - loss: 0.0136 - binary_accuracy: 0.9957 - val_loss: 0.8123 - val_binary_accuracy: 0.8616\n",
      "Epoch 16/200\n",
      "469/469 [==============================] - 30s 63ms/step - loss: 0.0026 - binary_accuracy: 0.9993 - val_loss: 0.8833 - val_binary_accuracy: 0.8685\n",
      "Epoch 17/200\n",
      "469/469 [==============================] - 30s 64ms/step - loss: 2.2553e-04 - binary_accuracy: 0.9999 - val_loss: 1.0041 - val_binary_accuracy: 0.8700\n",
      "For 32_0.001_False accuracy 0.8718 early_stopping 0.8726000189781189\n"
     ]
    },
    {
     "name": "stderr",
     "output_type": "stream",
     "text": [
      "WARNING:absl:Found untraced functions such as lstm_cell_37_layer_call_fn, lstm_cell_37_layer_call_and_return_conditional_losses, lstm_cell_38_layer_call_fn, lstm_cell_38_layer_call_and_return_conditional_losses, lstm_cell_37_layer_call_fn while saving (showing 5 of 10). These functions will not be directly callable after loading.\n"
     ]
    },
    {
     "name": "stdout",
     "output_type": "stream",
     "text": [
      "INFO:tensorflow:Assets written to: results_lstm_/32_0.001_False/best_model.hd5/assets\n"
     ]
    },
    {
     "name": "stderr",
     "output_type": "stream",
     "text": [
      "INFO:tensorflow:Assets written to: results_lstm_/32_0.001_False/best_model.hd5/assets\n"
     ]
    },
    {
     "name": "stdout",
     "output_type": "stream",
     "text": [
      "Working on 32_0.0001_True\n",
      "<keras.regularizers.L1L2 object at 0x14cce8086190>\n",
      "Model: \"model_13\"\n",
      "__________________________________________________________________________________________________\n",
      "Layer (type)                    Output Shape         Param #     Connected to                     \n",
      "==================================================================================================\n",
      "input_14 (InputLayer)           [(None, None)]       0                                            \n",
      "__________________________________________________________________________________________________\n",
      "text_vectorization (TextVectori (None, 1200)         0           input_14[0][0]                   \n",
      "__________________________________________________________________________________________________\n",
      "embedding (Embedding)           (None, 1200, 64)     1920000     text_vectorization[13][0]        \n",
      "__________________________________________________________________________________________________\n",
      "attention_13 (Attention)        (None, 1200, 64)     0           embedding[0][0]                  \n",
      "                                                                 embedding[0][0]                  \n",
      "__________________________________________________________________________________________________\n",
      "bi_lstm_0 (Bidirectional)       (None, 128)          66048       attention_13[0][0]               \n",
      "__________________________________________________________________________________________________\n",
      "dropout_13 (Dropout)            (None, 128)          0           bi_lstm_0[0][0]                  \n",
      "__________________________________________________________________________________________________\n",
      "dense_20 (Dense)                (None, 1)            129         dropout_13[0][0]                 \n",
      "==================================================================================================\n",
      "Total params: 1,986,177\n",
      "Trainable params: 1,986,177\n",
      "Non-trainable params: 0\n",
      "__________________________________________________________________________________________________\n",
      "None\n",
      "Epoch 1/200\n",
      "469/469 [==============================] - 35s 67ms/step - loss: 3.4353 - binary_accuracy: 0.6525 - val_loss: 2.2483 - val_binary_accuracy: 0.8131\n",
      "Epoch 2/200\n",
      "469/469 [==============================] - 30s 64ms/step - loss: 1.7751 - binary_accuracy: 0.6541 - val_loss: 1.1789 - val_binary_accuracy: 0.8372\n",
      "Epoch 3/200\n",
      "469/469 [==============================] - 30s 64ms/step - loss: 0.8970 - binary_accuracy: 0.8585 - val_loss: 0.7897 - val_binary_accuracy: 0.8157\n",
      "Epoch 4/200\n",
      "469/469 [==============================] - 30s 64ms/step - loss: 0.7034 - binary_accuracy: 0.8223 - val_loss: 0.6809 - val_binary_accuracy: 0.8531\n",
      "Epoch 5/200\n",
      "469/469 [==============================] - 30s 64ms/step - loss: 0.5793 - binary_accuracy: 0.8916 - val_loss: 0.6624 - val_binary_accuracy: 0.8562\n",
      "Epoch 6/200\n",
      "469/469 [==============================] - 30s 64ms/step - loss: 0.5875 - binary_accuracy: 0.8744 - val_loss: 0.6334 - val_binary_accuracy: 0.8577\n",
      "Epoch 7/200\n",
      "469/469 [==============================] - 30s 64ms/step - loss: 0.5057 - binary_accuracy: 0.9095 - val_loss: 0.6133 - val_binary_accuracy: 0.8607\n",
      "Epoch 8/200\n",
      "469/469 [==============================] - 30s 64ms/step - loss: 0.6124 - binary_accuracy: 0.8507 - val_loss: 0.6441 - val_binary_accuracy: 0.8226\n",
      "Epoch 9/200\n",
      "469/469 [==============================] - 30s 64ms/step - loss: 0.4828 - binary_accuracy: 0.9095 - val_loss: 0.5888 - val_binary_accuracy: 0.8642\n",
      "Epoch 10/200\n",
      "469/469 [==============================] - 30s 64ms/step - loss: 0.5041 - binary_accuracy: 0.8960 - val_loss: 0.5785 - val_binary_accuracy: 0.8623\n",
      "Epoch 11/200\n",
      "469/469 [==============================] - 30s 64ms/step - loss: 0.6716 - binary_accuracy: 0.7249 - val_loss: 0.8436 - val_binary_accuracy: 0.4990\n",
      "Epoch 12/200\n",
      "469/469 [==============================] - 30s 64ms/step - loss: 0.8119 - binary_accuracy: 0.5007 - val_loss: 0.7808 - val_binary_accuracy: 0.4990\n",
      "Epoch 13/200\n",
      "469/469 [==============================] - 30s 64ms/step - loss: 0.6086 - binary_accuracy: 0.7604 - val_loss: 0.6656 - val_binary_accuracy: 0.7529\n",
      "Epoch 14/200\n",
      "469/469 [==============================] - 30s 64ms/step - loss: 0.5247 - binary_accuracy: 0.8703 - val_loss: 0.5510 - val_binary_accuracy: 0.8616\n",
      "Epoch 15/200\n",
      "469/469 [==============================] - 30s 64ms/step - loss: 0.5801 - binary_accuracy: 0.8155 - val_loss: 0.5897 - val_binary_accuracy: 0.8223\n",
      "Epoch 16/200\n",
      "469/469 [==============================] - 30s 64ms/step - loss: 0.5441 - binary_accuracy: 0.8595 - val_loss: 0.8220 - val_binary_accuracy: 0.5710\n",
      "Epoch 17/200\n",
      "469/469 [==============================] - 30s 64ms/step - loss: 0.5392 - binary_accuracy: 0.8235 - val_loss: 0.5435 - val_binary_accuracy: 0.8627\n",
      "Epoch 18/200\n",
      "469/469 [==============================] - 30s 64ms/step - loss: 0.3905 - binary_accuracy: 0.9310 - val_loss: 0.5442 - val_binary_accuracy: 0.8675\n",
      "Epoch 19/200\n",
      "469/469 [==============================] - 30s 64ms/step - loss: 0.3638 - binary_accuracy: 0.9389 - val_loss: 0.5483 - val_binary_accuracy: 0.8676\n",
      "Epoch 20/200\n",
      "469/469 [==============================] - 30s 65ms/step - loss: 0.3625 - binary_accuracy: 0.9365 - val_loss: 0.5392 - val_binary_accuracy: 0.8687\n",
      "Epoch 21/200\n",
      "469/469 [==============================] - 30s 64ms/step - loss: 0.3427 - binary_accuracy: 0.9411 - val_loss: 0.5367 - val_binary_accuracy: 0.8688\n",
      "Epoch 22/200\n",
      "469/469 [==============================] - 30s 64ms/step - loss: 0.3681 - binary_accuracy: 0.9211 - val_loss: 0.5392 - val_binary_accuracy: 0.8647\n",
      "Epoch 23/200\n",
      "469/469 [==============================] - 30s 64ms/step - loss: 0.5842 - binary_accuracy: 0.7687 - val_loss: 0.5469 - val_binary_accuracy: 0.8458\n",
      "Epoch 24/200\n",
      "469/469 [==============================] - 30s 65ms/step - loss: 0.5777 - binary_accuracy: 0.7167 - val_loss: 0.7366 - val_binary_accuracy: 0.5101\n",
      "Epoch 25/200\n",
      "469/469 [==============================] - 30s 65ms/step - loss: 0.3669 - binary_accuracy: 0.8854 - val_loss: 0.5015 - val_binary_accuracy: 0.8689\n",
      "Epoch 26/200\n",
      "469/469 [==============================] - 30s 64ms/step - loss: 0.3190 - binary_accuracy: 0.9207 - val_loss: 0.5304 - val_binary_accuracy: 0.7563\n",
      "Epoch 27/200\n",
      "469/469 [==============================] - 30s 65ms/step - loss: 0.4957 - binary_accuracy: 0.7495 - val_loss: 0.6304 - val_binary_accuracy: 0.7046\n",
      "Epoch 28/200\n",
      "469/469 [==============================] - 30s 65ms/step - loss: 0.4198 - binary_accuracy: 0.8704 - val_loss: 0.4724 - val_binary_accuracy: 0.8662\n",
      "Epoch 29/200\n",
      "469/469 [==============================] - 30s 65ms/step - loss: 0.2570 - binary_accuracy: 0.9545 - val_loss: 0.5366 - val_binary_accuracy: 0.8754\n",
      "Epoch 30/200\n",
      "469/469 [==============================] - 30s 65ms/step - loss: 0.2446 - binary_accuracy: 0.9545 - val_loss: 0.4353 - val_binary_accuracy: 0.8435\n",
      "Epoch 31/200\n",
      "469/469 [==============================] - 30s 65ms/step - loss: 0.3386 - binary_accuracy: 0.9225 - val_loss: 0.5257 - val_binary_accuracy: 0.8748\n",
      "Epoch 32/200\n",
      "469/469 [==============================] - 30s 65ms/step - loss: 0.2310 - binary_accuracy: 0.9639 - val_loss: 0.5087 - val_binary_accuracy: 0.8711\n",
      "Epoch 33/200\n",
      "469/469 [==============================] - 30s 65ms/step - loss: 0.2152 - binary_accuracy: 0.9669 - val_loss: 0.5181 - val_binary_accuracy: 0.8716\n",
      "Epoch 34/200\n",
      "469/469 [==============================] - 30s 64ms/step - loss: 0.2114 - binary_accuracy: 0.9663 - val_loss: 0.5368 - val_binary_accuracy: 0.8754\n",
      "Epoch 35/200\n",
      "469/469 [==============================] - 30s 65ms/step - loss: 0.2117 - binary_accuracy: 0.9651 - val_loss: 0.5189 - val_binary_accuracy: 0.8604\n",
      "Epoch 36/200\n",
      "469/469 [==============================] - 30s 65ms/step - loss: 0.2063 - binary_accuracy: 0.9643 - val_loss: 0.5168 - val_binary_accuracy: 0.8731\n",
      "Epoch 37/200\n",
      "469/469 [==============================] - 30s 65ms/step - loss: 0.2129 - binary_accuracy: 0.9598 - val_loss: 0.5174 - val_binary_accuracy: 0.8669\n",
      "Epoch 38/200\n",
      "469/469 [==============================] - 30s 65ms/step - loss: 0.2379 - binary_accuracy: 0.9506 - val_loss: 0.4963 - val_binary_accuracy: 0.8741\n",
      "Epoch 39/200\n",
      "469/469 [==============================] - 30s 65ms/step - loss: 0.4052 - binary_accuracy: 0.8411 - val_loss: 0.4927 - val_binary_accuracy: 0.8672\n",
      "For 32_0.0001_True accuracy 0.8759 early_stopping 0.8754000067710876\n"
     ]
    },
    {
     "name": "stderr",
     "output_type": "stream",
     "text": [
      "WARNING:absl:Found untraced functions such as lstm_cell_40_layer_call_fn, lstm_cell_40_layer_call_and_return_conditional_losses, lstm_cell_41_layer_call_fn, lstm_cell_41_layer_call_and_return_conditional_losses, lstm_cell_40_layer_call_fn while saving (showing 5 of 10). These functions will not be directly callable after loading.\n"
     ]
    },
    {
     "name": "stdout",
     "output_type": "stream",
     "text": [
      "INFO:tensorflow:Assets written to: results_lstm_/32_0.0001_True/best_model.hd5/assets\n"
     ]
    },
    {
     "name": "stderr",
     "output_type": "stream",
     "text": [
      "INFO:tensorflow:Assets written to: results_lstm_/32_0.0001_True/best_model.hd5/assets\n"
     ]
    },
    {
     "name": "stdout",
     "output_type": "stream",
     "text": [
      "Working on 32_0.0001_False\n",
      "None\n",
      "Model: \"model_14\"\n",
      "__________________________________________________________________________________________________\n",
      "Layer (type)                    Output Shape         Param #     Connected to                     \n",
      "==================================================================================================\n",
      "input_15 (InputLayer)           [(None, None)]       0                                            \n",
      "__________________________________________________________________________________________________\n",
      "text_vectorization (TextVectori (None, 1200)         0           input_15[0][0]                   \n",
      "__________________________________________________________________________________________________\n",
      "embedding (Embedding)           (None, 1200, 64)     1920000     text_vectorization[14][0]        \n",
      "__________________________________________________________________________________________________\n",
      "attention_14 (Attention)        (None, 1200, 64)     0           embedding[0][0]                  \n",
      "                                                                 embedding[0][0]                  \n",
      "__________________________________________________________________________________________________\n",
      "bi_lstm_0 (Bidirectional)       (None, 128)          66048       attention_14[0][0]               \n",
      "__________________________________________________________________________________________________\n",
      "dense_21 (Dense)                (None, 1)            129         bi_lstm_0[0][0]                  \n",
      "==================================================================================================\n",
      "Total params: 1,986,177\n",
      "Trainable params: 1,986,177\n",
      "Non-trainable params: 0\n",
      "__________________________________________________________________________________________________\n",
      "None\n",
      "Epoch 1/200\n",
      "469/469 [==============================] - 35s 66ms/step - loss: 0.5558 - binary_accuracy: 0.6847 - val_loss: 0.4227 - val_binary_accuracy: 0.8350\n",
      "Epoch 2/200\n",
      "469/469 [==============================] - 30s 63ms/step - loss: 0.3905 - binary_accuracy: 0.8375 - val_loss: 0.4075 - val_binary_accuracy: 0.8436\n",
      "Epoch 3/200\n",
      "469/469 [==============================] - 30s 64ms/step - loss: 0.3807 - binary_accuracy: 0.8435 - val_loss: 0.5001 - val_binary_accuracy: 0.8179\n",
      "Epoch 4/200\n",
      "469/469 [==============================] - 30s 64ms/step - loss: 0.5684 - binary_accuracy: 0.6988 - val_loss: 0.5654 - val_binary_accuracy: 0.7577\n",
      "Epoch 5/200\n",
      "469/469 [==============================] - 30s 64ms/step - loss: 0.3490 - binary_accuracy: 0.8465 - val_loss: 0.3588 - val_binary_accuracy: 0.8356\n",
      "Epoch 6/200\n",
      "469/469 [==============================] - 30s 64ms/step - loss: 0.2349 - binary_accuracy: 0.8960 - val_loss: 0.5391 - val_binary_accuracy: 0.6987\n",
      "Epoch 7/200\n",
      "469/469 [==============================] - 30s 63ms/step - loss: 0.4522 - binary_accuracy: 0.6191 - val_loss: 0.5698 - val_binary_accuracy: 0.5103\n",
      "Epoch 8/200\n",
      "469/469 [==============================] - 30s 63ms/step - loss: 0.3952 - binary_accuracy: 0.5929 - val_loss: 0.3504 - val_binary_accuracy: 0.8152\n",
      "Epoch 9/200\n",
      "469/469 [==============================] - 30s 63ms/step - loss: 0.1901 - binary_accuracy: 0.9209 - val_loss: 0.3460 - val_binary_accuracy: 0.8534\n",
      "Epoch 10/200\n",
      "469/469 [==============================] - 30s 64ms/step - loss: 0.2215 - binary_accuracy: 0.9233 - val_loss: 0.3699 - val_binary_accuracy: 0.8715\n",
      "Epoch 11/200\n",
      "469/469 [==============================] - 30s 63ms/step - loss: 0.2252 - binary_accuracy: 0.9355 - val_loss: 0.3795 - val_binary_accuracy: 0.8743\n",
      "Epoch 12/200\n",
      "469/469 [==============================] - 30s 64ms/step - loss: 0.1815 - binary_accuracy: 0.9539 - val_loss: 0.4156 - val_binary_accuracy: 0.8742\n",
      "Epoch 13/200\n",
      "469/469 [==============================] - 30s 64ms/step - loss: 0.1919 - binary_accuracy: 0.9493 - val_loss: 0.4126 - val_binary_accuracy: 0.8724\n",
      "Epoch 14/200\n",
      "469/469 [==============================] - 30s 64ms/step - loss: 0.1819 - binary_accuracy: 0.9517 - val_loss: 0.5489 - val_binary_accuracy: 0.7780\n",
      "Epoch 15/200\n",
      "469/469 [==============================] - 30s 63ms/step - loss: 0.1585 - binary_accuracy: 0.9593 - val_loss: 0.4089 - val_binary_accuracy: 0.8763\n",
      "Epoch 16/200\n",
      "469/469 [==============================] - 30s 64ms/step - loss: 0.1733 - binary_accuracy: 0.9509 - val_loss: 0.3992 - val_binary_accuracy: 0.8696\n",
      "Epoch 17/200\n",
      "469/469 [==============================] - 30s 64ms/step - loss: 0.1524 - binary_accuracy: 0.9544 - val_loss: 0.3935 - val_binary_accuracy: 0.8692\n",
      "Epoch 18/200\n",
      "469/469 [==============================] - 30s 64ms/step - loss: 0.1551 - binary_accuracy: 0.9277 - val_loss: 0.4826 - val_binary_accuracy: 0.7925\n",
      "Epoch 19/200\n",
      "469/469 [==============================] - 30s 64ms/step - loss: 0.1397 - binary_accuracy: 0.9613 - val_loss: 0.4497 - val_binary_accuracy: 0.8692\n",
      "Epoch 20/200\n",
      "469/469 [==============================] - 30s 64ms/step - loss: 0.1158 - binary_accuracy: 0.9700 - val_loss: 0.4453 - val_binary_accuracy: 0.8778\n",
      "Epoch 21/200\n",
      "469/469 [==============================] - 30s 64ms/step - loss: 0.1266 - binary_accuracy: 0.9668 - val_loss: 0.4018 - val_binary_accuracy: 0.8752\n",
      "Epoch 22/200\n",
      "469/469 [==============================] - 30s 64ms/step - loss: 0.1445 - binary_accuracy: 0.9606 - val_loss: 0.4458 - val_binary_accuracy: 0.8723\n",
      "Epoch 23/200\n",
      "469/469 [==============================] - 30s 64ms/step - loss: 0.1043 - binary_accuracy: 0.9711 - val_loss: 0.4323 - val_binary_accuracy: 0.8768\n",
      "Epoch 24/200\n",
      "469/469 [==============================] - 30s 64ms/step - loss: 0.1387 - binary_accuracy: 0.9535 - val_loss: 0.3840 - val_binary_accuracy: 0.8239\n",
      "Epoch 25/200\n",
      "469/469 [==============================] - 30s 64ms/step - loss: 0.1175 - binary_accuracy: 0.9653 - val_loss: 0.4247 - val_binary_accuracy: 0.8660\n",
      "Epoch 26/200\n",
      "469/469 [==============================] - 30s 64ms/step - loss: 0.0875 - binary_accuracy: 0.9697 - val_loss: 0.4163 - val_binary_accuracy: 0.8675\n",
      "Epoch 27/200\n",
      "469/469 [==============================] - 30s 64ms/step - loss: 0.0896 - binary_accuracy: 0.9711 - val_loss: 0.4417 - val_binary_accuracy: 0.8837\n",
      "Epoch 28/200\n",
      "469/469 [==============================] - 30s 64ms/step - loss: 0.0631 - binary_accuracy: 0.9827 - val_loss: 0.3944 - val_binary_accuracy: 0.8568\n",
      "Epoch 29/200\n",
      "469/469 [==============================] - 30s 64ms/step - loss: 0.0880 - binary_accuracy: 0.9766 - val_loss: 0.4942 - val_binary_accuracy: 0.8775\n",
      "Epoch 30/200\n",
      "469/469 [==============================] - 30s 64ms/step - loss: 0.0546 - binary_accuracy: 0.9879 - val_loss: 0.4973 - val_binary_accuracy: 0.8770\n",
      "Epoch 31/200\n",
      "469/469 [==============================] - 30s 64ms/step - loss: 0.0667 - binary_accuracy: 0.9801 - val_loss: 0.4768 - val_binary_accuracy: 0.8783\n",
      "Epoch 32/200\n",
      "469/469 [==============================] - 30s 64ms/step - loss: 0.0414 - binary_accuracy: 0.9894 - val_loss: 0.5143 - val_binary_accuracy: 0.8781\n",
      "Epoch 33/200\n",
      "469/469 [==============================] - 30s 64ms/step - loss: 0.0399 - binary_accuracy: 0.9917 - val_loss: 0.4404 - val_binary_accuracy: 0.8775\n",
      "Epoch 34/200\n",
      "469/469 [==============================] - 30s 64ms/step - loss: 0.0314 - binary_accuracy: 0.9939 - val_loss: 0.8021 - val_binary_accuracy: 0.7882\n",
      "Epoch 35/200\n",
      "469/469 [==============================] - 30s 64ms/step - loss: 0.0555 - binary_accuracy: 0.9873 - val_loss: 0.5381 - val_binary_accuracy: 0.8773\n",
      "Epoch 36/200\n",
      "469/469 [==============================] - 30s 64ms/step - loss: 0.0446 - binary_accuracy: 0.9894 - val_loss: 0.5786 - val_binary_accuracy: 0.8760\n",
      "Epoch 37/200\n",
      "469/469 [==============================] - 30s 64ms/step - loss: 0.0381 - binary_accuracy: 0.9912 - val_loss: 0.5643 - val_binary_accuracy: 0.8744\n",
      "For 32_0.0001_False accuracy 0.8835 early_stopping 0.8837000131607056\n"
     ]
    },
    {
     "name": "stderr",
     "output_type": "stream",
     "text": [
      "WARNING:absl:Found untraced functions such as lstm_cell_43_layer_call_fn, lstm_cell_43_layer_call_and_return_conditional_losses, lstm_cell_44_layer_call_fn, lstm_cell_44_layer_call_and_return_conditional_losses, lstm_cell_43_layer_call_fn while saving (showing 5 of 10). These functions will not be directly callable after loading.\n"
     ]
    },
    {
     "name": "stdout",
     "output_type": "stream",
     "text": [
      "INFO:tensorflow:Assets written to: results_lstm_/32_0.0001_False/best_model.hd5/assets\n"
     ]
    },
    {
     "name": "stderr",
     "output_type": "stream",
     "text": [
      "INFO:tensorflow:Assets written to: results_lstm_/32_0.0001_False/best_model.hd5/assets\n"
     ]
    },
    {
     "name": "stdout",
     "output_type": "stream",
     "text": [
      "Working on 64_0.01_True\n",
      "<keras.regularizers.L1L2 object at 0x14ccddb79a60>\n",
      "Model: \"model_15\"\n",
      "__________________________________________________________________________________________________\n",
      "Layer (type)                    Output Shape         Param #     Connected to                     \n",
      "==================================================================================================\n",
      "input_16 (InputLayer)           [(None, None)]       0                                            \n",
      "__________________________________________________________________________________________________\n",
      "text_vectorization (TextVectori (None, 1200)         0           input_16[0][0]                   \n",
      "__________________________________________________________________________________________________\n",
      "embedding (Embedding)           (None, 1200, 64)     1920000     text_vectorization[15][0]        \n",
      "__________________________________________________________________________________________________\n",
      "attention_15 (Attention)        (None, 1200, 64)     0           embedding[0][0]                  \n",
      "                                                                 embedding[0][0]                  \n",
      "__________________________________________________________________________________________________\n",
      "bi_lstm_0 (Bidirectional)       (None, 128)          66048       attention_15[0][0]               \n",
      "__________________________________________________________________________________________________\n",
      "dropout_14 (Dropout)            (None, 128)          0           bi_lstm_0[0][0]                  \n",
      "__________________________________________________________________________________________________\n",
      "dense_22 (Dense)                (None, 1)            129         dropout_14[0][0]                 \n",
      "==================================================================================================\n",
      "Total params: 1,986,177\n",
      "Trainable params: 1,986,177\n",
      "Non-trainable params: 0\n",
      "__________________________________________________________________________________________________\n",
      "None\n",
      "Epoch 1/200\n",
      "235/235 [==============================] - 26s 94ms/step - loss: 0.7503 - binary_accuracy: 0.7021 - val_loss: 0.5510 - val_binary_accuracy: 0.7335\n",
      "Epoch 2/200\n",
      "235/235 [==============================] - 21s 89ms/step - loss: 0.4615 - binary_accuracy: 0.8601 - val_loss: 0.5567 - val_binary_accuracy: 0.8355\n",
      "Epoch 3/200\n",
      "235/235 [==============================] - 21s 89ms/step - loss: 0.3960 - binary_accuracy: 0.8898 - val_loss: 0.5236 - val_binary_accuracy: 0.7955\n",
      "Epoch 4/200\n",
      "235/235 [==============================] - 21s 89ms/step - loss: 0.3760 - binary_accuracy: 0.9081 - val_loss: 0.6150 - val_binary_accuracy: 0.8092\n",
      "Epoch 5/200\n",
      "235/235 [==============================] - 21s 89ms/step - loss: 0.2728 - binary_accuracy: 0.9341 - val_loss: 0.5152 - val_binary_accuracy: 0.8466\n",
      "Epoch 6/200\n",
      "235/235 [==============================] - 21s 89ms/step - loss: 0.1921 - binary_accuracy: 0.9573 - val_loss: 0.5502 - val_binary_accuracy: 0.8466\n",
      "Epoch 7/200\n",
      "235/235 [==============================] - 21s 89ms/step - loss: 0.1624 - binary_accuracy: 0.9701 - val_loss: 0.6451 - val_binary_accuracy: 0.7820\n",
      "Epoch 8/200\n",
      "235/235 [==============================] - 21s 89ms/step - loss: 0.1685 - binary_accuracy: 0.9688 - val_loss: 0.5438 - val_binary_accuracy: 0.8354\n",
      "Epoch 9/200\n",
      "235/235 [==============================] - 21s 89ms/step - loss: 0.1407 - binary_accuracy: 0.9802 - val_loss: 0.6263 - val_binary_accuracy: 0.8443\n",
      "Epoch 10/200\n",
      "235/235 [==============================] - 21s 89ms/step - loss: 0.1445 - binary_accuracy: 0.9773 - val_loss: 0.6582 - val_binary_accuracy: 0.8361\n",
      "Epoch 11/200\n",
      "235/235 [==============================] - 21s 89ms/step - loss: 0.1593 - binary_accuracy: 0.9735 - val_loss: 0.7953 - val_binary_accuracy: 0.8183\n",
      "Epoch 12/200\n",
      "235/235 [==============================] - 21s 89ms/step - loss: 0.1457 - binary_accuracy: 0.9785 - val_loss: 0.6914 - val_binary_accuracy: 0.8327\n",
      "Epoch 13/200\n",
      "235/235 [==============================] - 21s 89ms/step - loss: 0.1486 - binary_accuracy: 0.9836 - val_loss: 0.7038 - val_binary_accuracy: 0.8227\n",
      "Epoch 14/200\n",
      "235/235 [==============================] - 21s 89ms/step - loss: 0.1305 - binary_accuracy: 0.9822 - val_loss: 0.6780 - val_binary_accuracy: 0.8294\n",
      "Epoch 15/200\n",
      "235/235 [==============================] - 21s 89ms/step - loss: 0.1628 - binary_accuracy: 0.9821 - val_loss: 0.7477 - val_binary_accuracy: 0.8282\n",
      "235/235 [==============================] - 21s 89ms/step - loss: 0.1873 - binary_accuracy: 0.9246 - val_loss: 0.4994 - val_binary_accuracy: 0.8367\n",
      "Epoch 4/200\n",
      "235/235 [==============================] - 21s 89ms/step - loss: 0.1286 - binary_accuracy: 0.9561 - val_loss: 0.4292 - val_binary_accuracy: 0.8529\n",
      "Epoch 5/200\n",
      "235/235 [==============================] - 21s 89ms/step - loss: 0.1025 - binary_accuracy: 0.9633 - val_loss: 0.5419 - val_binary_accuracy: 0.8431\n",
      "Epoch 6/200\n",
      "235/235 [==============================] - 21s 89ms/step - loss: 0.0840 - binary_accuracy: 0.9697 - val_loss: 0.7187 - val_binary_accuracy: 0.8053\n",
      "Epoch 7/200\n",
      "235/235 [==============================] - 21s 89ms/step - loss: 0.0836 - binary_accuracy: 0.9714 - val_loss: 0.5689 - val_binary_accuracy: 0.8393\n",
      "Epoch 8/200\n",
      "235/235 [==============================] - 21s 89ms/step - loss: 0.0557 - binary_accuracy: 0.9819 - val_loss: 0.6476 - val_binary_accuracy: 0.8283\n",
      "Epoch 9/200\n",
      "235/235 [==============================] - 21s 89ms/step - loss: 0.0429 - binary_accuracy: 0.9858 - val_loss: 0.7049 - val_binary_accuracy: 0.8324\n",
      "Epoch 10/200\n",
      "235/235 [==============================] - 21s 88ms/step - loss: 0.0323 - binary_accuracy: 0.9899 - val_loss: 0.7342 - val_binary_accuracy: 0.8357\n",
      "Epoch 11/200\n",
      "235/235 [==============================] - 21s 89ms/step - loss: 0.0442 - binary_accuracy: 0.9863 - val_loss: 0.6811 - val_binary_accuracy: 0.8330\n",
      "Epoch 12/200\n",
      "235/235 [==============================] - 21s 89ms/step - loss: 0.0383 - binary_accuracy: 0.9876 - val_loss: 0.7524 - val_binary_accuracy: 0.8335\n",
      "For 64_0.01_False accuracy 0.8655 early_stopping 0.8641999959945679\n"
     ]
    },
    {
     "name": "stderr",
     "output_type": "stream",
     "text": [
      "WARNING:absl:Found untraced functions such as lstm_cell_49_layer_call_fn, lstm_cell_49_layer_call_and_return_conditional_losses, lstm_cell_50_layer_call_fn, lstm_cell_50_layer_call_and_return_conditional_losses, lstm_cell_49_layer_call_fn while saving (showing 5 of 10). These functions will not be directly callable after loading.\n"
     ]
    },
    {
     "name": "stdout",
     "output_type": "stream",
     "text": [
      "INFO:tensorflow:Assets written to: results_lstm_/64_0.01_False/best_model.hd5/assets\n"
     ]
    },
    {
     "name": "stderr",
     "output_type": "stream",
     "text": [
      "INFO:tensorflow:Assets written to: results_lstm_/64_0.01_False/best_model.hd5/assets\n"
     ]
    },
    {
     "name": "stdout",
     "output_type": "stream",
     "text": [
      "Working on 64_0.001_True\n",
      "<keras.regularizers.L1L2 object at 0x14cd2962b910>\n",
      "Model: \"model_17\"\n",
      "__________________________________________________________________________________________________\n",
      "Layer (type)                    Output Shape         Param #     Connected to                     \n",
      "==================================================================================================\n",
      "input_18 (InputLayer)           [(None, None)]       0                                            \n",
      "__________________________________________________________________________________________________\n",
      "text_vectorization (TextVectori (None, 1200)         0           input_18[0][0]                   \n",
      "__________________________________________________________________________________________________\n",
      "embedding (Embedding)           (None, 1200, 64)     1920000     text_vectorization[17][0]        \n",
      "__________________________________________________________________________________________________\n",
      "attention_17 (Attention)        (None, 1200, 64)     0           embedding[0][0]                  \n",
      "                                                                 embedding[0][0]                  \n",
      "__________________________________________________________________________________________________\n",
      "bi_lstm_0 (Bidirectional)       (None, 128)          66048       attention_17[0][0]               \n",
      "__________________________________________________________________________________________________\n",
      "dropout_15 (Dropout)            (None, 128)          0           bi_lstm_0[0][0]                  \n",
      "__________________________________________________________________________________________________\n",
      "dense_24 (Dense)                (None, 1)            129         dropout_15[0][0]                 \n",
      "==================================================================================================\n",
      "Total params: 1,986,177\n",
      "Trainable params: 1,986,177\n",
      "Non-trainable params: 0\n",
      "__________________________________________________________________________________________________\n",
      "None\n",
      "Epoch 1/200\n",
      "235/235 [==============================] - 26s 94ms/step - loss: 1.5856 - binary_accuracy: 0.5310 - val_loss: 0.7672 - val_binary_accuracy: 0.4990\n",
      "Epoch 2/200\n",
      "235/235 [==============================] - 21s 89ms/step - loss: 0.7393 - binary_accuracy: 0.5007 - val_loss: 0.7187 - val_binary_accuracy: 0.4990\n",
      "Epoch 3/200\n",
      "235/235 [==============================] - 21s 89ms/step - loss: 0.7102 - binary_accuracy: 0.5007 - val_loss: 0.7034 - val_binary_accuracy: 0.4990\n",
      "Epoch 4/200\n",
      "235/235 [==============================] - 21s 89ms/step - loss: 0.7005 - binary_accuracy: 0.5007 - val_loss: 0.6987 - val_binary_accuracy: 0.4990\n",
      "Epoch 5/200\n",
      "235/235 [==============================] - 21s 89ms/step - loss: 0.6985 - binary_accuracy: 0.5007 - val_loss: 0.6978 - val_binary_accuracy: 0.4990\n",
      "Epoch 6/200\n",
      "235/235 [==============================] - 21s 89ms/step - loss: 0.6978 - binary_accuracy: 0.5007 - val_loss: 0.6982 - val_binary_accuracy: 0.4990\n",
      "Epoch 7/200\n",
      "235/235 [==============================] - 21s 89ms/step - loss: 0.6980 - binary_accuracy: 0.5007 - val_loss: 0.7004 - val_binary_accuracy: 0.4990\n",
      "Epoch 8/200\n",
      "235/235 [==============================] - 21s 89ms/step - loss: 0.6981 - binary_accuracy: 0.5007 - val_loss: 0.6968 - val_binary_accuracy: 0.4990\n",
      "Epoch 9/200\n",
      "235/235 [==============================] - 21s 89ms/step - loss: 0.6979 - binary_accuracy: 0.5007 - val_loss: 0.6969 - val_binary_accuracy: 0.4990\n",
      "Epoch 10/200\n",
      "235/235 [==============================] - 21s 88ms/step - loss: 0.6976 - binary_accuracy: 0.5007 - val_loss: 0.6969 - val_binary_accuracy: 0.4990\n",
      "Epoch 11/200\n",
      "235/235 [==============================] - 21s 89ms/step - loss: 0.6975 - binary_accuracy: 0.5007 - val_loss: 0.6974 - val_binary_accuracy: 0.4990\n",
      "For 64_0.001_True accuracy 0.5143 early_stopping 0.49900001287460327\n"
     ]
    },
    {
     "name": "stderr",
     "output_type": "stream",
     "text": [
      "WARNING:absl:Found untraced functions such as lstm_cell_52_layer_call_fn, lstm_cell_52_layer_call_and_return_conditional_losses, lstm_cell_53_layer_call_fn, lstm_cell_53_layer_call_and_return_conditional_losses, lstm_cell_52_layer_call_fn while saving (showing 5 of 10). These functions will not be directly callable after loading.\n"
     ]
    },
    {
     "name": "stdout",
     "output_type": "stream",
     "text": [
      "INFO:tensorflow:Assets written to: results_lstm_/64_0.001_True/best_model.hd5/assets\n"
     ]
    },
    {
     "name": "stderr",
     "output_type": "stream",
     "text": [
      "INFO:tensorflow:Assets written to: results_lstm_/64_0.001_True/best_model.hd5/assets\n"
     ]
    },
    {
     "name": "stdout",
     "output_type": "stream",
     "text": [
      "Working on 64_0.001_False\n",
      "None\n",
      "Model: \"model_18\"\n",
      "__________________________________________________________________________________________________\n",
      "Layer (type)                    Output Shape         Param #     Connected to                     \n",
      "==================================================================================================\n",
      "input_19 (InputLayer)           [(None, None)]       0                                            \n",
      "__________________________________________________________________________________________________\n",
      "text_vectorization (TextVectori (None, 1200)         0           input_19[0][0]                   \n",
      "__________________________________________________________________________________________________\n",
      "embedding (Embedding)           (None, 1200, 64)     1920000     text_vectorization[18][0]        \n",
      "__________________________________________________________________________________________________\n",
      "attention_18 (Attention)        (None, 1200, 64)     0           embedding[0][0]                  \n",
      "                                                                 embedding[0][0]                  \n",
      "__________________________________________________________________________________________________\n",
      "bi_lstm_0 (Bidirectional)       (None, 128)          66048       attention_18[0][0]               \n",
      "__________________________________________________________________________________________________\n",
      "dense_25 (Dense)                (None, 1)            129         bi_lstm_0[0][0]                  \n",
      "==================================================================================================\n",
      "Total params: 1,986,177\n",
      "Trainable params: 1,986,177\n",
      "Non-trainable params: 0\n",
      "__________________________________________________________________________________________________\n",
      "None\n",
      "Epoch 1/200\n",
      "166/235 [====================>.........] - ETA: 4s - loss: 0.5333 - binary_accuracy: 0.7209Epoch 5/200\n",
      "235/235 [==============================] - 21s 88ms/step - loss: 0.1844 - binary_accuracy: 0.9353 - val_loss: 0.3708 - val_binary_accuracy: 0.8693\n",
      "Epoch 6/200\n",
      "235/235 [==============================] - 21s 88ms/step - loss: 0.1170 - binary_accuracy: 0.9657 - val_loss: 0.5735 - val_binary_accuracy: 0.8737\n",
      "Epoch 7/200\n",
      "235/235 [==============================] - 21s 88ms/step - loss: 0.0938 - binary_accuracy: 0.9767 - val_loss: 0.3722 - val_binary_accuracy: 0.8709\n",
      "Epoch 8/200\n",
      "235/235 [==============================] - 21s 88ms/step - loss: 0.1025 - binary_accuracy: 0.9696 - val_loss: 0.4739 - val_binary_accuracy: 0.8724\n",
      "Epoch 9/200\n",
      "235/235 [==============================] - 21s 88ms/step - loss: 0.0518 - binary_accuracy: 0.9861 - val_loss: 0.4914 - val_binary_accuracy: 0.8721\n",
      "Epoch 10/200\n",
      "235/235 [==============================] - 21s 88ms/step - loss: 0.0386 - binary_accuracy: 0.9903 - val_loss: 0.3807 - val_binary_accuracy: 0.8486\n",
      "Epoch 11/200\n",
      "235/235 [==============================] - 21s 88ms/step - loss: 0.0311 - binary_accuracy: 0.9917 - val_loss: 0.4525 - val_binary_accuracy: 0.8657\n",
      "Epoch 12/200\n",
      "235/235 [==============================] - 21s 88ms/step - loss: 0.1086 - binary_accuracy: 0.9606 - val_loss: 0.4975 - val_binary_accuracy: 0.8308\n",
      "Epoch 13/200\n",
      "235/235 [==============================] - 21s 88ms/step - loss: 0.1279 - binary_accuracy: 0.9515 - val_loss: 0.4534 - val_binary_accuracy: 0.8101\n",
      "Epoch 14/200\n",
      "235/235 [==============================] - 21s 88ms/step - loss: 0.0848 - binary_accuracy: 0.9640 - val_loss: 0.5468 - val_binary_accuracy: 0.8645\n",
      "Epoch 15/200\n",
      "235/235 [==============================] - 21s 88ms/step - loss: 0.0292 - binary_accuracy: 0.9931 - val_loss: 0.5299 - val_binary_accuracy: 0.8690\n",
      "Epoch 16/200\n",
      "235/235 [==============================] - 21s 89ms/step - loss: 0.0203 - binary_accuracy: 0.9943 - val_loss: 0.5463 - val_binary_accuracy: 0.8670\n",
      "For 64_0.001_False accuracy 0.8737 early_stopping 0.8737000226974487\n"
     ]
    },
    {
     "name": "stderr",
     "output_type": "stream",
     "text": [
      "WARNING:absl:Found untraced functions such as lstm_cell_55_layer_call_fn, lstm_cell_55_layer_call_and_return_conditional_losses, lstm_cell_56_layer_call_fn, lstm_cell_56_layer_call_and_return_conditional_losses, lstm_cell_55_layer_call_fn while saving (showing 5 of 10). These functions will not be directly callable after loading.\n"
     ]
    },
    {
     "name": "stdout",
     "output_type": "stream",
     "text": [
      "INFO:tensorflow:Assets written to: results_lstm_/64_0.001_False/best_model.hd5/assets\n"
     ]
    },
    {
     "name": "stderr",
     "output_type": "stream",
     "text": [
      "INFO:tensorflow:Assets written to: results_lstm_/64_0.001_False/best_model.hd5/assets\n"
     ]
    },
    {
     "name": "stdout",
     "output_type": "stream",
     "text": [
      "Working on 64_0.0001_True\n",
      "<keras.regularizers.L1L2 object at 0x14ccdcc76760>\n",
      "Model: \"model_19\"\n",
      "__________________________________________________________________________________________________\n",
      "Layer (type)                    Output Shape         Param #     Connected to                     \n",
      "==================================================================================================\n",
      "input_20 (InputLayer)           [(None, None)]       0                                            \n",
      "__________________________________________________________________________________________________\n",
      "text_vectorization (TextVectori (None, 1200)         0           input_20[0][0]                   \n",
      "__________________________________________________________________________________________________\n",
      "embedding (Embedding)           (None, 1200, 64)     1920000     text_vectorization[19][0]        \n",
      "__________________________________________________________________________________________________\n",
      "attention_19 (Attention)        (None, 1200, 64)     0           embedding[0][0]                  \n",
      "                                                                 embedding[0][0]                  \n",
      "__________________________________________________________________________________________________\n",
      "bi_lstm_0 (Bidirectional)       (None, 128)          66048       attention_19[0][0]               \n",
      "__________________________________________________________________________________________________\n",
      "dropout_16 (Dropout)            (None, 128)          0           bi_lstm_0[0][0]                  \n",
      "__________________________________________________________________________________________________\n",
      "dense_26 (Dense)                (None, 1)            129         dropout_16[0][0]                 \n",
      "==================================================================================================\n",
      "Total params: 1,986,177\n",
      "Trainable params: 1,986,177\n",
      "Non-trainable params: 0\n",
      "__________________________________________________________________________________________________\n",
      "None\n",
      "Epoch 1/200\n",
      "235/235 [==============================] - 26s 94ms/step - loss: 4.1337 - binary_accuracy: 0.5743 - val_loss: 3.3542 - val_binary_accuracy: 0.7151\n",
      "Epoch 2/200\n",
      "235/235 [==============================] - 21s 88ms/step - loss: 2.8726 - binary_accuracy: 0.6809 - val_loss: 2.5653 - val_binary_accuracy: 0.5329\n",
      "Epoch 3/200\n",
      "235/235 [==============================] - 21s 89ms/step - loss: 1.9508 - binary_accuracy: 0.8201 - val_loss: 1.7903 - val_binary_accuracy: 0.6761\n",
      "Epoch 4/200\n",
      "235/235 [==============================] - 21s 89ms/step - loss: 1.4856 - binary_accuracy: 0.8143 - val_loss: 1.4034 - val_binary_accuracy: 0.7466\n",
      "Epoch 5/200\n",
      "235/235 [==============================] - 21s 89ms/step - loss: 1.0689 - binary_accuracy: 0.8806 - val_loss: 1.0271 - val_binary_accuracy: 0.8611\n",
      "Epoch 6/200\n",
      "235/235 [==============================] - 21s 89ms/step - loss: 0.8332 - binary_accuracy: 0.8835 - val_loss: 0.8592 - val_binary_accuracy: 0.8348\n",
      "Epoch 7/200\n",
      "235/235 [==============================] - 21s 88ms/step - loss: 0.7500 - binary_accuracy: 0.8808 - val_loss: 0.8091 - val_binary_accuracy: 0.8547\n",
      "Epoch 8/200\n",
      "235/235 [==============================] - 21s 89ms/step - loss: 0.6527 - binary_accuracy: 0.9153 - val_loss: 0.7786 - val_binary_accuracy: 0.8536\n",
      "Epoch 9/200\n",
      "235/235 [==============================] - 21s 88ms/step - loss: 0.6143 - binary_accuracy: 0.9199 - val_loss: 0.7464 - val_binary_accuracy: 0.8596\n",
      "Epoch 10/200\n",
      "144/235 [=================>............] - ETA: 6s - loss: 0.5939 - binary_accuracy: 0.9193"
     ]
    }
   ],
   "source": [
    "model_fn = model.get_bidirectional_lstm_attention\n",
    "loss_fn = tf.keras.losses.BinaryCrossentropy(from_logits=True)\n",
    "results_l = main.run_experiment(model_fn, train_ds, val_ds, loss_fn, vectorizer, \"./results_lstm_\")\n"
   ]
  },
  {
   "cell_type": "code",
   "execution_count": null,
   "id": "61e5a590-64be-41d1-b39c-6d856298e8b0",
   "metadata": {},
   "outputs": [
    {
     "name": "stdout",
     "output_type": "stream",
     "text": [
      "Working on 32_0.01_True\n",
      "<keras.regularizers.L1L2 object at 0x154469e8adf0>\n",
      "Model: \"model\"\n",
      "__________________________________________________________________________________________________\n",
      "Layer (type)                    Output Shape         Param #     Connected to                     \n",
      "==================================================================================================\n",
      "input_1 (InputLayer)            [(None, None)]       0                                            \n",
      "__________________________________________________________________________________________________\n",
      "text_vectorization (TextVectori (None, 1200)         0           input_1[0][0]                    \n",
      "__________________________________________________________________________________________________\n",
      "embedding (Embedding)           (None, 1200, 64)     1920000     text_vectorization[0][0]         \n",
      "__________________________________________________________________________________________________\n",
      "attention (Attention)           (None, 1200, 64)     0           embedding[0][0]                  \n",
      "                                                                 embedding[0][0]                  \n",
      "__________________________________________________________________________________________________\n",
      "bi_gru_0 (Bidirectional)        (None, 128)          49920       attention[0][0]                  \n",
      "__________________________________________________________________________________________________\n",
      "dropout (Dropout)               (None, 128)          0           bi_gru_0[0][0]                   \n",
      "__________________________________________________________________________________________________\n",
      "dense (Dense)                   (None, 1)            129         dropout[0][0]                    \n",
      "==================================================================================================\n",
      "Total params: 1,970,049\n",
      "Trainable params: 1,970,049\n",
      "Non-trainable params: 0\n",
      "__________________________________________________________________________________________________\n",
      "None\n",
      "Epoch 1/200\n"
     ]
    },
    {
     "name": "stderr",
     "output_type": "stream",
     "text": [
      "2024-11-10 15:43:26.884002: I tensorflow/stream_executor/cuda/cuda_dnn.cc:369] Loaded cuDNN version 8902\n",
      "Could not load symbol cublasGetSmCountTarget from libcublas.so.11. Error: /common/cse479/shared/envs/tensorflow-env/lib/python3.9/site-packages/tensorflow/python/../../../../libcublas.so.11: undefined symbol: cublasGetSmCountTarget\n"
     ]
    },
    {
     "name": "stdout",
     "output_type": "stream",
     "text": [
      "469/469 [==============================] - 37s 63ms/step - loss: 0.5419 - binary_accuracy: 0.7978 - val_loss: 0.4870 - val_binary_accuracy: 0.8142\n",
      "Epoch 2/200\n",
      "469/469 [==============================] - 28s 60ms/step - loss: 0.2490 - binary_accuracy: 0.9310 - val_loss: 0.4299 - val_binary_accuracy: 0.8529\n",
      "Epoch 3/200\n",
      "469/469 [==============================] - 28s 60ms/step - loss: 0.1551 - binary_accuracy: 0.9685 - val_loss: 0.5339 - val_binary_accuracy: 0.8540\n",
      "Epoch 4/200\n",
      "469/469 [==============================] - 28s 60ms/step - loss: 0.1391 - binary_accuracy: 0.9795 - val_loss: 0.5267 - val_binary_accuracy: 0.8603\n",
      "Epoch 5/200\n",
      "469/469 [==============================] - 28s 60ms/step - loss: 0.0984 - binary_accuracy: 0.9875 - val_loss: 0.7097 - val_binary_accuracy: 0.8535\n",
      "Epoch 6/200\n",
      "469/469 [==============================] - 28s 60ms/step - loss: 0.0961 - binary_accuracy: 0.9894 - val_loss: 1.0283 - val_binary_accuracy: 0.8224\n",
      "Epoch 7/200\n",
      "469/469 [==============================] - 28s 60ms/step - loss: 0.0826 - binary_accuracy: 0.9911 - val_loss: 0.8095 - val_binary_accuracy: 0.8423\n",
      "Epoch 8/200\n",
      "469/469 [==============================] - 28s 60ms/step - loss: 0.0744 - binary_accuracy: 0.9943 - val_loss: 0.8655 - val_binary_accuracy: 0.8389\n",
      "Epoch 9/200\n",
      "469/469 [==============================] - 28s 60ms/step - loss: 0.1210 - binary_accuracy: 0.9901 - val_loss: 0.7748 - val_binary_accuracy: 0.8359\n",
      "Epoch 10/200\n",
      "469/469 [==============================] - 28s 60ms/step - loss: 7.4078 - binary_accuracy: 0.9695 - val_loss: 6.2118 - val_binary_accuracy: 0.8066\n",
      "Epoch 11/200\n",
      "469/469 [==============================] - 28s 60ms/step - loss: 4.3415 - binary_accuracy: 0.9862 - val_loss: 4.3049 - val_binary_accuracy: 0.8147\n",
      "Epoch 12/200\n",
      "469/469 [==============================] - 28s 60ms/step - loss: 2.7747 - binary_accuracy: 0.9911 - val_loss: 3.1056 - val_binary_accuracy: 0.8049\n",
      "Epoch 13/200\n",
      "469/469 [==============================] - 28s 60ms/step - loss: 5.3811 - binary_accuracy: 0.9897 - val_loss: 18.5532 - val_binary_accuracy: 0.8054\n",
      "Epoch 14/200\n",
      "469/469 [==============================] - 28s 60ms/step - loss: 17.7612 - binary_accuracy: 0.9706 - val_loss: 18.4288 - val_binary_accuracy: 0.8051\n",
      "For 32_0.01_True accuracy 0.8622 early_stopping 0.8603000044822693\n"
     ]
    },
    {
     "name": "stderr",
     "output_type": "stream",
     "text": [
      "2024-11-10 15:50:15.106857: W tensorflow/python/util/util.cc:348] Sets are not currently considered sequences, but this may change in the future, so consider avoiding using them.\n",
      "WARNING:absl:Found untraced functions such as gru_cell_1_layer_call_and_return_conditional_losses, gru_cell_1_layer_call_fn, gru_cell_2_layer_call_and_return_conditional_losses, gru_cell_2_layer_call_fn, gru_cell_1_layer_call_fn while saving (showing 5 of 10). These functions will not be directly callable after loading.\n"
     ]
    },
    {
     "name": "stdout",
     "output_type": "stream",
     "text": [
      "INFO:tensorflow:Assets written to: results_gru_/32_0.01_True/best_model.hd5/assets\n"
     ]
    },
    {
     "name": "stderr",
     "output_type": "stream",
     "text": [
      "INFO:tensorflow:Assets written to: results_gru_/32_0.01_True/best_model.hd5/assets\n"
     ]
    },
    {
     "name": "stdout",
     "output_type": "stream",
     "text": [
      "Working on 32_0.01_False\n",
      "None\n",
      "Model: \"model_1\"\n",
      "__________________________________________________________________________________________________\n",
      "Layer (type)                    Output Shape         Param #     Connected to                     \n",
      "==================================================================================================\n",
      "input_2 (InputLayer)            [(None, None)]       0                                            \n",
      "__________________________________________________________________________________________________\n",
      "text_vectorization (TextVectori (None, 1200)         0           input_2[0][0]                    \n",
      "__________________________________________________________________________________________________\n",
      "embedding (Embedding)           (None, 1200, 64)     1920000     text_vectorization[1][0]         \n",
      "__________________________________________________________________________________________________\n",
      "attention_1 (Attention)         (None, 1200, 64)     0           embedding[0][0]                  \n",
      "                                                                 embedding[0][0]                  \n",
      "__________________________________________________________________________________________________\n",
      "bi_gru_0 (Bidirectional)        (None, 128)          49920       attention_1[0][0]                \n",
      "__________________________________________________________________________________________________\n",
      "dense_1 (Dense)                 (None, 1)            129         bi_gru_0[0][0]                   \n",
      "==================================================================================================\n",
      "Total params: 1,970,049\n",
      "Trainable params: 1,970,049\n",
      "Non-trainable params: 0\n",
      "__________________________________________________________________________________________________\n",
      "None\n",
      "Epoch 1/200\n",
      "469/469 [==============================] - 34s 63ms/step - loss: 0.3474 - binary_accuracy: 0.8373 - val_loss: 0.2679 - val_binary_accuracy: 0.8834\n",
      "Epoch 2/200\n",
      "469/469 [==============================] - 28s 60ms/step - loss: 0.1391 - binary_accuracy: 0.9475 - val_loss: 0.3726 - val_binary_accuracy: 0.8575\n",
      "Epoch 3/200\n",
      "469/469 [==============================] - 28s 60ms/step - loss: 0.0798 - binary_accuracy: 0.9693 - val_loss: 0.6079 - val_binary_accuracy: 0.8516\n",
      "Epoch 4/200\n",
      "469/469 [==============================] - 28s 60ms/step - loss: 0.0717 - binary_accuracy: 0.9736 - val_loss: 0.5850 - val_binary_accuracy: 0.8388\n",
      "Epoch 5/200\n",
      "469/469 [==============================] - 28s 60ms/step - loss: 0.1843 - binary_accuracy: 0.9251 - val_loss: 0.5892 - val_binary_accuracy: 0.7689\n",
      "Epoch 6/200\n",
      "469/469 [==============================] - 28s 60ms/step - loss: 0.2744 - binary_accuracy: 0.8811 - val_loss: 0.5234 - val_binary_accuracy: 0.7984\n",
      "Epoch 7/200\n",
      "469/469 [==============================] - 28s 60ms/step - loss: 0.2009 - binary_accuracy: 0.9169 - val_loss: 0.5889 - val_binary_accuracy: 0.7951\n",
      "Epoch 8/200\n",
      "469/469 [==============================] - 28s 60ms/step - loss: 0.1661 - binary_accuracy: 0.9325 - val_loss: 0.5727 - val_binary_accuracy: 0.8087\n",
      "Epoch 9/200\n",
      "469/469 [==============================] - 28s 60ms/step - loss: 0.1436 - binary_accuracy: 0.9445 - val_loss: 0.6155 - val_binary_accuracy: 0.8104\n",
      "Epoch 10/200\n",
      "469/469 [==============================] - 28s 60ms/step - loss: 0.1244 - binary_accuracy: 0.9505 - val_loss: 0.6424 - val_binary_accuracy: 0.8017\n",
      "Epoch 11/200\n",
      "469/469 [==============================] - 28s 60ms/step - loss: 0.1091 - binary_accuracy: 0.9557 - val_loss: 0.6811 - val_binary_accuracy: 0.8087\n",
      "For 32_0.01_False accuracy 0.8878 early_stopping 0.883400022983551\n"
     ]
    },
    {
     "name": "stderr",
     "output_type": "stream",
     "text": [
      "WARNING:absl:Found untraced functions such as gru_cell_4_layer_call_and_return_conditional_losses, gru_cell_4_layer_call_fn, gru_cell_5_layer_call_and_return_conditional_losses, gru_cell_5_layer_call_fn, gru_cell_4_layer_call_fn while saving (showing 5 of 10). These functions will not be directly callable after loading.\n"
     ]
    },
    {
     "name": "stdout",
     "output_type": "stream",
     "text": [
      "INFO:tensorflow:Assets written to: results_gru_/32_0.01_False/best_model.hd5/assets\n"
     ]
    },
    {
     "name": "stderr",
     "output_type": "stream",
     "text": [
      "INFO:tensorflow:Assets written to: results_gru_/32_0.01_False/best_model.hd5/assets\n"
     ]
    },
    {
     "name": "stdout",
     "output_type": "stream",
     "text": [
      "Working on 32_0.001_True\n",
      "<keras.regularizers.L1L2 object at 0x15434a2f8df0>\n",
      "Model: \"model_2\"\n",
      "__________________________________________________________________________________________________\n",
      "Layer (type)                    Output Shape         Param #     Connected to                     \n",
      "==================================================================================================\n",
      "input_3 (InputLayer)            [(None, None)]       0                                            \n",
      "__________________________________________________________________________________________________\n",
      "text_vectorization (TextVectori (None, 1200)         0           input_3[0][0]                    \n",
      "__________________________________________________________________________________________________\n",
      "embedding (Embedding)           (None, 1200, 64)     1920000     text_vectorization[2][0]         \n",
      "__________________________________________________________________________________________________\n",
      "attention_2 (Attention)         (None, 1200, 64)     0           embedding[0][0]                  \n",
      "                                                                 embedding[0][0]                  \n",
      "__________________________________________________________________________________________________\n",
      "bi_gru_0 (Bidirectional)        (None, 128)          49920       attention_2[0][0]                \n",
      "__________________________________________________________________________________________________\n",
      "dropout_1 (Dropout)             (None, 128)          0           bi_gru_0[0][0]                   \n",
      "__________________________________________________________________________________________________\n",
      "dense_2 (Dense)                 (None, 1)            129         dropout_1[0][0]                  \n",
      "==================================================================================================\n",
      "Total params: 1,970,049\n",
      "Trainable params: 1,970,049\n",
      "Non-trainable params: 0\n",
      "__________________________________________________________________________________________________\n",
      "None\n",
      "Epoch 1/200\n",
      "469/469 [==============================] - 28s 60ms/step - loss: 0.1204 - binary_accuracy: 0.9712 - val_loss: 0.4808 - val_binary_accuracy: 0.8857\n",
      "Epoch 5/200\n",
      "469/469 [==============================] - 28s 60ms/step - loss: 0.0813 - binary_accuracy: 0.9835 - val_loss: 0.5145 - val_binary_accuracy: 0.8819\n",
      "Epoch 6/200\n",
      "469/469 [==============================] - 28s 60ms/step - loss: 0.0697 - binary_accuracy: 0.9876 - val_loss: 0.4305 - val_binary_accuracy: 0.8483\n",
      "Epoch 7/200\n",
      "469/469 [==============================] - 28s 60ms/step - loss: 0.1334 - binary_accuracy: 0.9643 - val_loss: 0.4341 - val_binary_accuracy: 0.8714\n",
      "Epoch 8/200\n",
      "469/469 [==============================] - 28s 60ms/step - loss: 0.0528 - binary_accuracy: 0.9920 - val_loss: 0.5774 - val_binary_accuracy: 0.8775\n",
      "Epoch 9/200\n",
      "469/469 [==============================] - 28s 60ms/step - loss: 0.1706 - binary_accuracy: 0.9783 - val_loss: 0.7018 - val_binary_accuracy: 0.8739\n",
      "Epoch 10/200\n",
      "469/469 [==============================] - 28s 60ms/step - loss: 0.0441 - binary_accuracy: 0.9958 - val_loss: 0.7427 - val_binary_accuracy: 0.8764\n",
      "Epoch 11/200\n",
      "469/469 [==============================] - 28s 60ms/step - loss: 0.0394 - binary_accuracy: 0.9950 - val_loss: 0.6765 - val_binary_accuracy: 0.8763\n",
      "Epoch 12/200\n",
      "469/469 [==============================] - 28s 60ms/step - loss: 0.0270 - binary_accuracy: 0.9981 - val_loss: 0.5931 - val_binary_accuracy: 0.8737\n",
      "Epoch 13/200\n",
      "469/469 [==============================] - 28s 60ms/step - loss: 0.0431 - binary_accuracy: 0.9931 - val_loss: 0.7539 - val_binary_accuracy: 0.8718\n",
      "Epoch 14/200\n",
      "469/469 [==============================] - 28s 60ms/step - loss: 0.0225 - binary_accuracy: 0.9983 - val_loss: 0.7697 - val_binary_accuracy: 0.8780\n",
      "For 32_0.001_True accuracy 0.887 early_stopping 0.885699987411499\n"
     ]
    },
    {
     "name": "stderr",
     "output_type": "stream",
     "text": [
      "WARNING:absl:Found untraced functions such as gru_cell_7_layer_call_and_return_conditional_losses, gru_cell_7_layer_call_fn, gru_cell_8_layer_call_and_return_conditional_losses, gru_cell_8_layer_call_fn, gru_cell_7_layer_call_fn while saving (showing 5 of 10). These functions will not be directly callable after loading.\n"
     ]
    },
    {
     "name": "stdout",
     "output_type": "stream",
     "text": [
      "INFO:tensorflow:Assets written to: results_gru_/32_0.001_True/best_model.hd5/assets\n"
     ]
    },
    {
     "name": "stderr",
     "output_type": "stream",
     "text": [
      "INFO:tensorflow:Assets written to: results_gru_/32_0.001_True/best_model.hd5/assets\n"
     ]
    },
    {
     "name": "stdout",
     "output_type": "stream",
     "text": [
      "Working on 32_0.001_False\n",
      "None\n",
      "Model: \"model_3\"\n",
      "__________________________________________________________________________________________________\n",
      "Layer (type)                    Output Shape         Param #     Connected to                     \n",
      "==================================================================================================\n",
      "input_4 (InputLayer)            [(None, None)]       0                                            \n",
      "__________________________________________________________________________________________________\n",
      "text_vectorization (TextVectori (None, 1200)         0           input_4[0][0]                    \n",
      "__________________________________________________________________________________________________\n",
      "embedding (Embedding)           (None, 1200, 64)     1920000     text_vectorization[3][0]         \n",
      "__________________________________________________________________________________________________\n",
      "attention_3 (Attention)         (None, 1200, 64)     0           embedding[0][0]                  \n",
      "                                                                 embedding[0][0]                  \n",
      "__________________________________________________________________________________________________\n",
      "bi_gru_0 (Bidirectional)        (None, 128)          49920       attention_3[0][0]                \n",
      "__________________________________________________________________________________________________\n",
      "dense_3 (Dense)                 (None, 1)            129         bi_gru_0[0][0]                   \n",
      "==================================================================================================\n",
      "Total params: 1,970,049\n",
      "Trainable params: 1,970,049\n",
      "Non-trainable params: 0\n",
      "__________________________________________________________________________________________________\n",
      "None\n",
      "Epoch 1/200\n",
      " 96/469 [=====>........................] - ETA: 17s - loss: 0.5600 - binary_accuracy: 0.6504"
     ]
    },
    {
     "name": "stderr",
     "output_type": "stream",
     "text": [
      "IOPub message rate exceeded.\n",
      "The Jupyter server will temporarily stop sending output\n",
      "to the client in order to avoid crashing it.\n",
      "To change this limit, set the config variable\n",
      "`--ServerApp.iopub_msg_rate_limit`.\n",
      "\n",
      "Current values:\n",
      "ServerApp.iopub_msg_rate_limit=1000.0 (msgs/sec)\n",
      "ServerApp.rate_limit_window=3.0 (secs)\n",
      "\n"
     ]
    },
    {
     "name": "stdout",
     "output_type": "stream",
     "text": [
      "469/469 [==============================] - 28s 60ms/step - loss: 0.0142 - binary_accuracy: 0.9952 - val_loss: 0.7020 - val_binary_accuracy: 0.8656\n",
      "Epoch 8/200\n",
      "469/469 [==============================] - 28s 60ms/step - loss: 0.0111 - binary_accuracy: 0.9962 - val_loss: 0.4452 - val_binary_accuracy: 0.8642\n",
      "Epoch 9/200\n",
      "469/469 [==============================] - 28s 60ms/step - loss: 0.0085 - binary_accuracy: 0.9973 - val_loss: 0.7722 - val_binary_accuracy: 0.8680\n",
      "Epoch 10/200\n",
      "469/469 [==============================] - 28s 60ms/step - loss: 0.0033 - binary_accuracy: 0.9991 - val_loss: 0.8584 - val_binary_accuracy: 0.8660\n",
      "Epoch 11/200\n",
      "469/469 [==============================] - 28s 60ms/step - loss: 0.0072 - binary_accuracy: 0.9975 - val_loss: 0.8904 - val_binary_accuracy: 0.8662\n",
      "For 32_0.001_False accuracy 0.8896 early_stopping 0.8866999745368958\n"
     ]
    },
    {
     "name": "stderr",
     "output_type": "stream",
     "text": [
      "WARNING:absl:Found untraced functions such as gru_cell_10_layer_call_and_return_conditional_losses, gru_cell_10_layer_call_fn, gru_cell_11_layer_call_and_return_conditional_losses, gru_cell_11_layer_call_fn, gru_cell_10_layer_call_fn while saving (showing 5 of 10). These functions will not be directly callable after loading.\n"
     ]
    },
    {
     "name": "stdout",
     "output_type": "stream",
     "text": [
      "INFO:tensorflow:Assets written to: results_gru_/32_0.001_False/best_model.hd5/assets\n"
     ]
    },
    {
     "name": "stderr",
     "output_type": "stream",
     "text": [
      "INFO:tensorflow:Assets written to: results_gru_/32_0.001_False/best_model.hd5/assets\n"
     ]
    },
    {
     "name": "stdout",
     "output_type": "stream",
     "text": [
      "Working on 32_0.0001_True\n",
      "<keras.regularizers.L1L2 object at 0x154331a07a90>\n",
      "Model: \"model_4\"\n",
      "__________________________________________________________________________________________________\n",
      "Layer (type)                    Output Shape         Param #     Connected to                     \n",
      "==================================================================================================\n",
      "input_5 (InputLayer)            [(None, None)]       0                                            \n",
      "__________________________________________________________________________________________________\n",
      "text_vectorization (TextVectori (None, 1200)         0           input_5[0][0]                    \n",
      "__________________________________________________________________________________________________\n",
      "embedding (Embedding)           (None, 1200, 64)     1920000     text_vectorization[4][0]         \n",
      "__________________________________________________________________________________________________\n",
      "attention_4 (Attention)         (None, 1200, 64)     0           embedding[0][0]                  \n",
      "                                                                 embedding[0][0]                  \n",
      "__________________________________________________________________________________________________\n",
      "bi_gru_0 (Bidirectional)        (None, 128)          49920       attention_4[0][0]                \n",
      "__________________________________________________________________________________________________\n",
      "dropout_2 (Dropout)             (None, 128)          0           bi_gru_0[0][0]                   \n",
      "__________________________________________________________________________________________________\n",
      "dense_4 (Dense)                 (None, 1)            129         dropout_2[0][0]                  \n",
      "==================================================================================================\n",
      "Total params: 1,970,049\n",
      "Trainable params: 1,970,049\n",
      "Non-trainable params: 0\n",
      "__________________________________________________________________________________________________\n",
      "None\n",
      "Epoch 1/200\n",
      "469/469 [==============================] - 34s 63ms/step - loss: 3.2256 - binary_accuracy: 0.5974 - val_loss: 2.1426 - val_binary_accuracy: 0.8293\n",
      "Epoch 2/200\n",
      "469/469 [==============================] - 28s 60ms/step - loss: 1.6100 - binary_accuracy: 0.8666 - val_loss: 1.2640 - val_binary_accuracy: 0.8647\n",
      "Epoch 3/200\n",
      "469/469 [==============================] - 28s 60ms/step - loss: 0.9645 - binary_accuracy: 0.8896 - val_loss: 0.8422 - val_binary_accuracy: 0.8627\n",
      "Epoch 4/200\n",
      "469/469 [==============================] - 28s 60ms/step - loss: 0.6372 - binary_accuracy: 0.9095 - val_loss: 0.6688 - val_binary_accuracy: 0.8728\n",
      "Epoch 5/200\n",
      "469/469 [==============================] - 28s 60ms/step - loss: 0.5207 - binary_accuracy: 0.9269 - val_loss: 0.6600 - val_binary_accuracy: 0.8702\n",
      "Epoch 6/200\n",
      "469/469 [==============================] - 28s 60ms/step - loss: 0.6014 - binary_accuracy: 0.8728 - val_loss: 0.6332 - val_binary_accuracy: 0.8760\n",
      "Epoch 7/200\n",
      "469/469 [==============================] - 28s 60ms/step - loss: 0.4107 - binary_accuracy: 0.9521 - val_loss: 0.6223 - val_binary_accuracy: 0.8794\n",
      "Epoch 8/200\n",
      "268/469 [================>.............] - ETA: 9s - loss: 0.3701 - binary_accuracy: 0.9588"
     ]
    }
   ],
   "source": [
    "model_fn = model.get_bidirectional_gru_attention\n",
    "loss_fn = tf.keras.losses.BinaryCrossentropy(from_logits=True)\n",
    "results_g = main.run_experiment(model_fn, train_ds, val_ds, loss_fn, vectorizer, \"./results_gru_\")"
   ]
  },
  {
   "cell_type": "code",
   "execution_count": 1,
   "id": "8d792c1f-d38f-4901-915c-904e66d1901f",
   "metadata": {},
   "outputs": [
    {
     "ename": "NameError",
     "evalue": "name 'results_m' is not defined",
     "output_type": "error",
     "traceback": [
      "\u001b[0;31m---------------------------------------------------------------------------\u001b[0m",
      "\u001b[0;31mNameError\u001b[0m                                 Traceback (most recent call last)",
      "Cell \u001b[0;32mIn[1], line 1\u001b[0m\n\u001b[0;32m----> 1\u001b[0m \u001b[43mresults_m\u001b[49m\n",
      "\u001b[0;31mNameError\u001b[0m: name 'results_m' is not defined"
     ]
    }
   ],
   "source": []
  },
  {
   "cell_type": "code",
   "execution_count": null,
   "id": "3426d527-0377-4c7d-a583-11b80d5f707b",
   "metadata": {},
   "outputs": [],
   "source": [
    "combined_results = results_l #pd.concat([results_l],reset_index=True, sort=False)\n",
    "best_result = combined_results[combined_results['accuracy']==combined_results['accuracy'].max()]\n",
    "weight_location = best_result['model']\n",
    "if \"lstm\" in weight_location:\n",
    "    f_model = model.get_bidirectional_lstm_attention(vectorizer)\n",
    "else:\n",
    "    f_model = model.get_bidirectional_gru_attention(vectorizer)\n",
    "    \n",
    "        \n",
    "f_model.load_weights(weight_location)\n",
    "test_ds = util.get_test_ds()\n",
    "util.evaluate_model(f_model, test_ds, Path(\"./\"))"
   ]
  },
  {
   "cell_type": "code",
   "execution_count": 25,
   "id": "2b8e87d8-87c2-4f17-afa6-5a91a3f76db6",
   "metadata": {},
   "outputs": [
    {
     "name": "stdout",
     "output_type": "stream",
     "text": [
      "None\n"
     ]
    }
   ],
   "source": [
    "best_model = model.get_bidirectional_lstm_attention(vectorizer)"
   ]
  },
  {
   "cell_type": "code",
   "execution_count": 34,
   "id": "ec55cab8-27bc-4ea7-8a51-eb42345fe190",
   "metadata": {},
   "outputs": [
    {
     "data": {
      "text/plain": [
       "<tensorflow.python.training.tracking.util.CheckpointLoadStatus at 0x14c3902738e0>"
      ]
     },
     "execution_count": 34,
     "metadata": {},
     "output_type": "execute_result"
    }
   ],
   "source": [
    "best_model.load_weights(\"results_lstm_/32_0.001_True/best_weights.hd5\")"
   ]
  },
  {
   "cell_type": "code",
   "execution_count": 35,
   "id": "22a5423a-79cd-4f0b-937b-5ff784e727ab",
   "metadata": {},
   "outputs": [
    {
     "data": {
      "image/png": "[encoded data removed]",
      "text/plain": [
       "<Figure size 640x480 with 2 Axes>"
      ]
     },
     "metadata": {},
     "output_type": "display_data"
    },
    {
     "data": {
      "text/plain": [
       "0.8889"
      ]
     },
     "execution_count": 35,
     "metadata": {},
     "output_type": "execute_result"
    }
   ],
   "source": [
    "test_ds = util.get_test_ds()\n",
    "util.evaluate_model(best_model, val_ds)"
   ]
  },
  {
   "cell_type": "code",
   "execution_count": 36,
   "id": "ace762f0-8a09-4318-9bd3-6a3875bdbde1",
   "metadata": {},
   "outputs": [
    {
     "data": {
      "image/png": "[encoded data removed]",
      "text/plain": [
       "<Figure size 640x480 with 2 Axes>"
      ]
     },
     "metadata": {},
     "output_type": "display_data"
    },
    {
     "data": {
      "text/plain": [
       "0.87552"
      ]
     },
     "execution_count": 36,
     "metadata": {},
     "output_type": "execute_result"
    }
   ],
   "source": [
    "util.evaluate_model(best_model, test_ds)"
   ]
  },
  {
   "cell_type": "code",
   "execution_count": null,
   "id": "fa5033f3-fa01-48d2-a061-08287ef785d4",
   "metadata": {},
   "outputs": [],
   "source": []
  }
 ],
 "metadata": {
  "kernelspec": {
   "display_name": "Python CSCE479 (tensorflow-env)",
   "language": "python",
   "name": "tensorflow-env"
  },
  "language_info": {
   "codemirror_mode": {
    "name": "ipython",
    "version": 3
   },
   "file_extension": ".py",
   "mimetype": "text/x-python",
   "name": "python",
   "nbconvert_exporter": "python",
   "pygments_lexer": "ipython3",
   "version": "3.9.7"
  }
 },
 "nbformat": 4,
 "nbformat_minor": 5
}
